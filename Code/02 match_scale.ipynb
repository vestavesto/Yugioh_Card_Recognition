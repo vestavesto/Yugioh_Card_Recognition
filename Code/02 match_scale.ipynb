{
 "cells": [
  {
   "cell_type": "code",
   "execution_count": 1,
   "metadata": {},
   "outputs": [],
   "source": [
    "import cv2\n",
    "import numpy as np\n",
    "from matplotlib import pyplot as plt\n",
    "import os\n",
    "import imutils\n",
    "from tqdm import tqdm\n",
    "from copy import deepcopy\n",
    "import math\n",
    "import time\n",
    "from multiprocessing import Pool\n",
    "import pandas as pd"
   ]
  },
  {
   "cell_type": "code",
   "execution_count": 2,
   "metadata": {},
   "outputs": [],
   "source": [
    "from util_db import search_deck, search_card\n",
    "from match_scale import match_scale, match_scale_mp\n",
    "from match_card import match_card, match_card_v\n",
    "from util_trim import get_card_name, get_paste, get_tidy\n",
    "from util_tools import dist, sort_pt\n",
    "from util_trim import trans_raw, trans_dup, trans_group, trans_sort, trans_name, trans_paste"
   ]
  },
  {
   "cell_type": "code",
   "execution_count": 3,
   "metadata": {},
   "outputs": [],
   "source": [
    "top_card = [\n",
    "23434538,\n",
    "14558127,\n",
    "8267140,\n",
    "15693423,\n",
    "24224830,\n",
    "54693926,\n",
    "10045474,\n",
    "94145021,\n",
    "41420027,\n",
    "18144507,\n",
    "27204311,\n",
    "90448279,\n",
    "84211599\n",
    "]\n",
    "\n",
    "top_name = [\n",
    "'증식의 G O',   #O\n",
    "'하루 우라라 X', # X\n",
    "'코즈믹 싸이크론 X', # X\n",
    "'길항승부 X', # X\n",
    "'무덤의 지명자 O', # O\n",
    "'명왕결계파 X', # X\n",
    "'무한포영 X ', # X\n",
    "'드롤 & 로크 버드 X', # X\n",
    "'신의 심판 X', # X\n",
    "'해피의 깃털 O', # O\n",
    "'원시생명체 니비루 X', # X\n",
    "'네가로기어 아제우스 O', # O\n",
    "'졸부와 겸허의 항아리 X' # X\n",
    "]"
   ]
  },
  {
   "cell_type": "code",
   "execution_count": 9,
   "metadata": {},
   "outputs": [
    {
     "name": "stdout",
     "output_type": "stream",
     "text": [
      "Name of Card : 하루 우라라 X\n",
      "Name of Deck : 1004-001\n",
      "Ideal card image size is : 21 x 32\n",
      "Width of Deck : 400\n",
      "Width of Card : 32\n"
     ]
    }
   ],
   "source": [
    "dir_card_img = 'C:/ML_YGO/YGO_DB/'\n",
    "dir_card_list = []\n",
    "for digit_card in top_card :\n",
    "    dir_card = f'{dir_card_img}{digit_card}.jpg'\n",
    "    dir_card_list.append(dir_card)\n",
    "#######################################################\n",
    "card_sample = 1\n",
    "dir_card = dir_card_list[card_sample]\n",
    "card_name = top_name[card_sample]\n",
    "print(f'Name of Card : {card_name}')\n",
    "#######################################################\n",
    "deck_sample = 0\n",
    "dir_deck = search_deck(deck_sample)\n",
    "deck_code = os.path.splitext(os.path.basename(dir_deck))[0]\n",
    "print(f'Name of Deck : {deck_code}')\n",
    "#######################################################\n",
    "deck_width = 400\n",
    "card_width = match_scale(dir_card, dir_deck, deck_width)\n",
    "print(f'Width of Deck : {deck_width}')\n",
    "print(f'Width of Card : {card_width}')\n",
    "#######################################################\n",
    "threshold = 0.8\n",
    "dup_tol = card_width/3\n",
    "sort_round = deck_width/20\n",
    "#######################################################"
   ]
  },
  {
   "cell_type": "code",
   "execution_count": 20,
   "metadata": {},
   "outputs": [
    {
     "name": "stdout",
     "output_type": "stream",
     "text": [
      "Ideal card image size is : 27 x 39\n",
      "Width of Card : 39\n",
      "0 None\n"
     ]
    }
   ],
   "source": [
    "img_deck = cv2.imread(dir_deck)\n",
    "img_deck = imutils.resize(img_deck, width = deck_width)\n",
    "img_gray = cv2.cvtColor(img_deck, cv2.COLOR_BGR2GRAY)\n",
    "\n",
    "img_card = cv2.imread(dir_card, 0)\n",
    "\n",
    "best_match = None\n",
    "sc1 = int((deck_width / 10) * 0.8 )\n",
    "sc2 = int((deck_width / 10) * 1.2 )\n",
    "sc_dif = int(abs(sc2-sc1)/1)\n",
    "for scale in np.linspace(sc1, sc2, sc_dif):\n",
    "    resized_img_card = imutils.resize(img_card, width = int(scale))    \n",
    "    res = cv2.matchTemplate(img_gray, resized_img_card, cv2.TM_SQDIFF) # TM_CCOEFF_NORMED TM_SQDIFF\n",
    "    min_val, _, min_loc, _ = cv2.minMaxLoc(res)\n",
    "    if best_match is None or min_val <= best_match[0]:\n",
    "        ideal_scale=scale \n",
    "        best_match = [min_val, min_loc, ideal_scale]\n",
    "ideal_w = int(img_card.shape[1]*ideal_scale / img_card.shape[0])\n",
    "ideal_h = int(ideal_scale)\n",
    "print(f\"Ideal card image size is : {ideal_w} x {ideal_h}\")\n",
    "print(f'Width of Card : {card_width}')\n",
    "card_width = ideal_h\n",
    "\n",
    "# img_card = cv2.imread(dir_card, 0)\n",
    "img_card = imutils.resize(img_card, width = card_width)\n",
    "res = cv2.matchTemplate(img_gray, img_card, cv2.TM_CCOEFF_NORMED)\n",
    "loc=np.where(res >= threshold)\n",
    "\n",
    "lengths = [len(elem) for elem in loc]\n",
    "if all(length == 0 for length in lengths):\n",
    "    actual_length = 0\n",
    "else:\n",
    "    actual_length = max(lengths)\n",
    "\n",
    "if actual_length >0 :\n",
    "    real_width = card_width \n",
    "else :\n",
    "    real_width = None\n",
    "\n",
    "print(actual_length, real_width)"
   ]
  },
  {
   "cell_type": "code",
   "execution_count": 21,
   "metadata": {},
   "outputs": [
    {
     "name": "stdout",
     "output_type": "stream",
     "text": [
      "[39, 39, 39] 39.0\n"
     ]
    }
   ],
   "source": [
    "card_width_list = []\n",
    "for i in range(len(dir_card_list)):\n",
    "    dir_card = dir_card_list[i]\n",
    "    # card_name = top_name[i]\n",
    "    card_width = match_scale_mp(dir_card, dir_deck, deck_width, threshold)\n",
    "    # print(f'Card Width for {card_name} : {card_width}')\n",
    "    if card_width == None:\n",
    "        pass\n",
    "    else:\n",
    "        card_width_list.append(card_width)\n",
    "average = sum(card_width_list) / len(card_width_list)\n",
    "print(card_width_list, average)"
   ]
  },
  {
   "cell_type": "code",
   "execution_count": 12,
   "metadata": {},
   "outputs": [
    {
     "name": "stdout",
     "output_type": "stream",
     "text": [
      "The average of the list is: 39.0\n"
     ]
    }
   ],
   "source": [
    "count = 0\n",
    "total = 0\n",
    "for item in card_width_list:\n",
    "    if item is not None:\n",
    "        total += item\n",
    "        count += 1\n",
    "\n",
    "if count > 0:\n",
    "    average = total / count\n",
    "    print(f\"The average of the list is: {average}\")\n",
    "else:\n",
    "    print(\"The list contains no valid elements to average.\")"
   ]
  }
 ],
 "metadata": {
  "kernelspec": {
   "display_name": "base",
   "language": "python",
   "name": "python3"
  },
  "language_info": {
   "codemirror_mode": {
    "name": "ipython",
    "version": 3
   },
   "file_extension": ".py",
   "mimetype": "text/x-python",
   "name": "python",
   "nbconvert_exporter": "python",
   "pygments_lexer": "ipython3",
   "version": "3.9.13"
  },
  "orig_nbformat": 4,
  "vscode": {
   "interpreter": {
    "hash": "1c50a568c9bb54733425ee4b50464281b54488c5e15ff27e4e32e073d46803f6"
   }
  }
 },
 "nbformat": 4,
 "nbformat_minor": 2
}
