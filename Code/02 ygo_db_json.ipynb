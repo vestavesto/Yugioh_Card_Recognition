{
 "cells": [
  {
   "cell_type": "code",
   "execution_count": 3,
   "metadata": {},
   "outputs": [],
   "source": [
    "import requests\n",
    "import json\n",
    "import pprint"
   ]
  },
  {
   "cell_type": "code",
   "execution_count": 4,
   "metadata": {},
   "outputs": [],
   "source": [
    "response = requests.get('https://db.ygoprodeck.com/api/v7/cardinfo.php')"
   ]
  },
  {
   "cell_type": "code",
   "execution_count": 6,
   "metadata": {},
   "outputs": [],
   "source": [
    "response_json = response.json()"
   ]
  },
  {
   "cell_type": "code",
   "execution_count": 22,
   "metadata": {},
   "outputs": [
    {
     "data": {
      "text/plain": [
       "12377"
      ]
     },
     "execution_count": 22,
     "metadata": {},
     "output_type": "execute_result"
    }
   ],
   "source": [
    "k = response_json['data']\n",
    "len(k)"
   ]
  },
  {
   "cell_type": "code",
   "execution_count": 38,
   "metadata": {},
   "outputs": [],
   "source": [
    "dt_all = []\n",
    "for i in range(len(response_json['data'])):\n",
    "    dt_name = response_json['data'][i]['name']\n",
    "    dt_id = response_json['data'][i]['id']\n",
    "    try:\n",
    "        dt_set = response_json['data'][i]['card_sets'][0]['set_code']\n",
    "    except:\n",
    "        dt_set = \"*Blank*\"\n",
    "    dt_tag = dt_name + '\\t' + str(dt_id) + '\\t' + str(dt_set)\n",
    "    dt_all.append(dt_tag)"
   ]
  },
  {
   "cell_type": "code",
   "execution_count": 39,
   "metadata": {},
   "outputs": [
    {
     "name": "stdout",
     "output_type": "stream",
     "text": [
      "Done\n"
     ]
    }
   ],
   "source": [
    "with open('ygo_pro_api.txt', 'w', encoding=\"utf-8\") as fp:\n",
    "    for item in dt_all:\n",
    "        # write each item on a new line\n",
    "        fp.write(\"%s\\n\" % item)\n",
    "    print('Done')"
   ]
  },
  {
   "cell_type": "code",
   "execution_count": 40,
   "metadata": {},
   "outputs": [
    {
     "name": "stdout",
     "output_type": "stream",
     "text": [
      "{'id': 34541863, 'name': '\"A\" Cell Breeding Device', 'type': 'Spell Card', 'frameType': 'spell', 'desc': 'During each of your Standby Phases, put 1 A-Counter on 1 face-up monster your opponent controls.', 'race': 'Continuous', 'archetype': 'Alien', 'card_sets': [{'set_name': 'Force of the Breaker', 'set_code': 'FOTB-EN043', 'set_rarity': 'Common', 'set_rarity_code': '(C)', 'set_price': '1.31'}], 'card_images': [{'id': 34541863, 'image_url': 'https://images.ygoprodeck.com/images/cards/34541863.jpg', 'image_url_small': 'https://images.ygoprodeck.com/images/cards_small/34541863.jpg', 'image_url_cropped': 'https://images.ygoprodeck.com/images/cards_cropped/34541863.jpg'}], 'card_prices': [{'cardmarket_price': '0.17', 'tcgplayer_price': '0.19', 'ebay_price': '4.99', 'amazon_price': '24.45', 'coolstuffinc_price': '0.25'}]}\n"
     ]
    }
   ],
   "source": [
    "a= response_json['data'][0] #['card_sets'][0]['set_code']\n",
    "print(a)"
   ]
  },
  {
   "cell_type": "code",
   "execution_count": 18,
   "metadata": {},
   "outputs": [
    {
     "name": "stdout",
     "output_type": "stream",
     "text": [
      "\"A\" Cell Breeding Device\n",
      "34541863\n"
     ]
    }
   ],
   "source": [
    "a= response_json['data'][0]['name']\n",
    "b= response_json['data'][0]['id']\n",
    "print(a)\n",
    "print(b)"
   ]
  },
  {
   "cell_type": "code",
   "execution_count": 7,
   "metadata": {},
   "outputs": [
    {
     "data": {
      "text/plain": [
       "'\"A\" Cell Breeding Device'"
      ]
     },
     "execution_count": 7,
     "metadata": {},
     "output_type": "execute_result"
    }
   ],
   "source": [
    "response_json['data'][0]['name']"
   ]
  },
  {
   "cell_type": "code",
   "execution_count": 62,
   "metadata": {},
   "outputs": [],
   "source": [
    "a = 'https://db.ygorganization.com/data/idx/card/name/en'"
   ]
  },
  {
   "cell_type": "code",
   "execution_count": 63,
   "metadata": {},
   "outputs": [],
   "source": [
    "response = requests.get(a)"
   ]
  },
  {
   "cell_type": "code",
   "execution_count": 64,
   "metadata": {},
   "outputs": [],
   "source": [
    "response_json = response.json()"
   ]
  },
  {
   "cell_type": "code",
   "execution_count": 70,
   "metadata": {},
   "outputs": [],
   "source": [
    "b = list(response_json.values())"
   ]
  },
  {
   "cell_type": "code",
   "execution_count": 74,
   "metadata": {},
   "outputs": [
    {
     "name": "stdout",
     "output_type": "stream",
     "text": [
      "7128\n"
     ]
    }
   ],
   "source": [
    "print(b[0][0])"
   ]
  },
  {
   "cell_type": "code",
   "execution_count": 76,
   "metadata": {},
   "outputs": [
    {
     "ename": "KeyError",
     "evalue": "'7128'",
     "output_type": "error",
     "traceback": [
      "\u001b[1;31m---------------------------------------------------------------------------\u001b[0m",
      "\u001b[1;31mKeyError\u001b[0m                                  Traceback (most recent call last)",
      "Cell \u001b[1;32mIn[76], line 1\u001b[0m\n\u001b[1;32m----> 1\u001b[0m response_json[\u001b[39mstr\u001b[39;49m(b[\u001b[39m0\u001b[39;49m][\u001b[39m0\u001b[39;49m])]\n",
      "\u001b[1;31mKeyError\u001b[0m: '7128'"
     ]
    }
   ],
   "source": []
  },
  {
   "cell_type": "code",
   "execution_count": null,
   "metadata": {},
   "outputs": [],
   "source": []
  }
 ],
 "metadata": {
  "kernelspec": {
   "display_name": "Python 3",
   "language": "python",
   "name": "python3"
  },
  "language_info": {
   "codemirror_mode": {
    "name": "ipython",
    "version": 3
   },
   "file_extension": ".py",
   "mimetype": "text/x-python",
   "name": "python",
   "nbconvert_exporter": "python",
   "pygments_lexer": "ipython3",
   "version": "3.10.9 (tags/v3.10.9:1dd9be6, Dec  6 2022, 20:01:21) [MSC v.1934 64 bit (AMD64)]"
  },
  "orig_nbformat": 4,
  "vscode": {
   "interpreter": {
    "hash": "ba30104d757fa48b78fda77c0abc76d6e8451f38e106cb575997bab80e9c80de"
   }
  }
 },
 "nbformat": 4,
 "nbformat_minor": 2
}
