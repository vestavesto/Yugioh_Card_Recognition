{
 "cells": [
  {
   "cell_type": "code",
   "execution_count": 1,
   "metadata": {},
   "outputs": [],
   "source": [
    "import cv2\n",
    "import numpy as np\n",
    "from matplotlib import pyplot as plt\n",
    "import os\n",
    "import time\n",
    "import imutils\n",
    "\n",
    "# from time import sleep\n",
    "from tqdm import tqdm, trange\n"
   ]
  },
  {
   "cell_type": "markdown",
   "metadata": {},
   "source": [
    "V1 Multi Match"
   ]
  },
  {
   "cell_type": "code",
   "execution_count": 50,
   "metadata": {},
   "outputs": [
    {
     "data": {
      "text/plain": [
       "True"
      ]
     },
     "execution_count": 50,
     "metadata": {},
     "output_type": "execute_result"
    }
   ],
   "source": [
    "img_rgb = cv2.imread('C:/ML_YGO/Asset/deck1.jpg') # collection of image\n",
    "template = cv2.imread('C:/ML_YGO/Asset/ash.jpg') # unique image to search\n",
    "\n",
    "w, h = template.shape[:-1]\n",
    "\n",
    "res = cv2.matchTemplate(img_rgb, template, cv2.TM_CCOEFF_NORMED)\n",
    "\n",
    "# plt.imshow(res, cmap='gray')\n",
    "\n",
    "threshold = .8\n",
    "\n",
    "loc = np.where(res >= threshold)\n",
    "\n",
    "for pt in zip(*loc[::-1]):  # Switch collumns and rows\n",
    "    cv2.rectangle(img_rgb, pt, (pt[0] + w, pt[1] + h), (0, 0, 255), 2)\n",
    "\n",
    "cv2.imwrite('C:/ML_YGO/Result/V1S_res.png', img_rgb)"
   ]
  },
  {
   "cell_type": "markdown",
   "metadata": {},
   "source": [
    "V2 Single Match"
   ]
  },
  {
   "cell_type": "code",
   "execution_count": 22,
   "metadata": {},
   "outputs": [],
   "source": [
    "img_rgb = cv2.imread('C:/ML_YGO/Asset/deck2.jpg')\n",
    "img_gray = cv2.cvtColor(img_rgb, cv2.COLOR_BGR2GRAY)\n",
    "template = cv2.imread('C:/ML_YGO/Asset/ash.jpg', 0)\n",
    "h, w = template.shape[::] \n",
    "\n",
    "#methods available: ['cv2.TM_CCOEFF', 'cv2.TM_CCOEFF_NORMED', 'cv2.TM_CCORR',\n",
    "#            'cv2.TM_CCORR_NORMED', 'cv2.TM_SQDIFF', 'cv2.TM_SQDIFF_NORMED']\n",
    "\n",
    "res = cv2.matchTemplate(img_gray, template, cv2.TM_CCOEFF_NORMED)\n",
    "# For TM_SQDIFF, Good match yields minimum value; bad match yields large values\n",
    "# For all others it is exactly opposite, max value = good fit.\n",
    "# plt.imshow(res, cmap='gray')\n",
    "\n",
    "min_val, max_val, min_loc, max_loc = cv2.minMaxLoc(res)\n",
    "\n",
    "top_left = min_loc  #Change to max_loc for all except for TM_SQDIFF\n",
    "bottom_right = (top_left[0] + w, top_left[1] + h)\n",
    "cv2.rectangle(img_gray, top_left, bottom_right, 255, 2)  #White rectangle with thickness 2. \n",
    "\n",
    "cv2.imshow(\"Matched image\", img_rgb)\n",
    "cv2.waitKey()\n",
    "cv2.destroyAllWindows()"
   ]
  },
  {
   "cell_type": "markdown",
   "metadata": {},
   "source": [
    "V2 Multi Match"
   ]
  },
  {
   "cell_type": "code",
   "execution_count": 25,
   "metadata": {},
   "outputs": [
    {
     "name": "stdout",
     "output_type": "stream",
     "text": [
      "loc : (array([317, 317, 317], dtype=int64), array([400, 480, 560], dtype=int64))\n",
      "loc[-1] : (array([400, 480, 560], dtype=int64), array([317, 317, 317], dtype=int64))\n",
      "min_loc : (11, 407)\n"
     ]
    },
    {
     "data": {
      "text/plain": [
       "True"
      ]
     },
     "execution_count": 25,
     "metadata": {},
     "output_type": "execute_result"
    }
   ],
   "source": [
    "img_rgb = cv2.imread('C:/ML_YGO/Asset/deck1.jpg')\n",
    "img_gray = cv2.cvtColor(img_rgb, cv2.COLOR_BGR2GRAY)\n",
    "template = cv2.imread('C:/ML_YGO/Asset/ash.jpg', 0)\n",
    "h, w = template.shape[::] \n",
    "\n",
    "res = cv2.matchTemplate(img_gray, template, cv2.TM_CCOEFF_NORMED)\n",
    "\n",
    "# plt.imshow(template, cmap='gray')\n",
    "# plt.imshow(res, cmap='gray')\n",
    "\n",
    "threshold = 0.9\n",
    "loc=np.where(res >= threshold)\n",
    "\n",
    "print(f'loc : {loc}')\n",
    "print(f'loc[-1] : {loc[::-1]}')\n",
    "\n",
    "min_val, max_val, min_loc, max_loc = cv2.minMaxLoc(res)\n",
    "\n",
    "print(f'min_loc : {min_loc}')\n",
    "\n",
    "for pt in zip(*loc[::-1]):   #-1 to swap the values as we assign x and y coordinate to draw the rectangle. \n",
    "    #Draw rectangle around each object. We know the top left (pt), draw rectangle to match the size of the template image.\n",
    "    cv2.rectangle(img_rgb, pt, (pt[0] + w, pt[1] + h), (0, 0, 255), 2)  #Red rectangles with thickness 2. \n",
    "\n",
    "cv2.imwrite('C:/ML_YGO/Result/V2M_res.png', img_rgb)\n",
    "# cv2.imshow(\"Matched image\", img_rgb)\n",
    "# cv2.waitKey()\n",
    "# cv2.destroyAllWindows()"
   ]
  },
  {
   "attachments": {},
   "cell_type": "markdown",
   "metadata": {},
   "source": [
    "V3 Single Match"
   ]
  },
  {
   "cell_type": "code",
   "execution_count": 51,
   "metadata": {},
   "outputs": [
    {
     "name": "stdout",
     "output_type": "stream",
     "text": [
      "(480, 317)\n"
     ]
    }
   ],
   "source": [
    "## https://www.youtube.com/watch?v=cDP_4VbC_sE\n",
    "\n",
    "img_rgb = cv2.imread('C:/ML_YGO/Asset/deck1.jpg') #large image\n",
    "img_gray = cv2.cvtColor(img_rgb, cv2.COLOR_BGR2GRAY)\n",
    "template = cv2.imread('C:/ML_YGO/Asset/ash.jpg', 0) #small image\n",
    "h, w = template.shape[::]\n",
    "\n",
    "res = cv2.matchTemplate(img_gray, template, cv2.TM_SQDIFF)\n",
    "# plt.imshow(res, cmap = 'gray')\n",
    "\n",
    "min_val, max_val, min_loc, max_loc = cv2.minMaxLoc(res)\n",
    "\n",
    "top_left = min_loc\n",
    "bottom_right = (top_left[0] + w, top_left[1] + h)\n",
    "cv2.rectangle(img_rgb, top_left, bottom_right, (0,0,255), 2)\n",
    "cv2.imwrite('C:/ML_YGO/Result/V3S_res.png', img_rgb)\n",
    "\n",
    "print(top_left)"
   ]
  },
  {
   "attachments": {},
   "cell_type": "markdown",
   "metadata": {},
   "source": [
    "V3 Multi Match"
   ]
  },
  {
   "cell_type": "code",
   "execution_count": 12,
   "metadata": {},
   "outputs": [
    {
     "data": {
      "text/plain": [
       "True"
      ]
     },
     "execution_count": 12,
     "metadata": {},
     "output_type": "execute_result"
    }
   ],
   "source": [
    "## https://www.youtube.com/watch?v=cDP_4VbC_sE\n",
    "\n",
    "img_rgb = cv2.imread('C:/ML_YGO/Asset/deck4.jpg') #large image\n",
    "img_gray = cv2.cvtColor(img_rgb, cv2.COLOR_BGR2GRAY)\n",
    "template = cv2.imread('C:/ML_YGO/Pool_Crop/23434538.jpg', 0) #small image\n",
    "h, w = template.shape[::]\n",
    "\n",
    "res = cv2.matchTemplate(img_gray, template, cv2.TM_CCOEFF_NORMED)\n",
    "# plt.imshow(res, cmap = 'gray')\n",
    "\n",
    "threshold = 0.9\n",
    "loc=np.where(res >= threshold)\n",
    "\n",
    "min_val, max_val, min_loc, max_loc = cv2.minMaxLoc(res)\n",
    "\n",
    "# top_left = min_loc\n",
    "# bottom_right = (top_left[0] + w, top_left[1] + h)\n",
    "# cv2.rectangle(img_rgb, top_left, bottom_right, (0,0,255), 2)\n",
    "\n",
    "for pt in zip(*loc[::-1]):   #-1 to swap the values as we assign x and y coordinate to draw the rectangle. \n",
    "    #Draw rectangle around each object. We know the top left (pt), draw rectangle to match the size of the template image.\n",
    "    cv2.rectangle(img_rgb, pt, (pt[0] + w, pt[1] + h), (255, 255, 255), 4)  #Red rectangles with thickness 2. \n",
    "\n",
    "cv2.imwrite('C:/ML_YGO/Result/V3M_res.png', img_rgb)"
   ]
  },
  {
   "attachments": {},
   "cell_type": "markdown",
   "metadata": {},
   "source": [
    "Crop Region + Draw Region"
   ]
  },
  {
   "cell_type": "code",
   "execution_count": 225,
   "metadata": {},
   "outputs": [
    {
     "name": "stdout",
     "output_type": "stream",
     "text": [
      "C:/ML_YGO/YGO_DB/76794549.jpg\n"
     ]
    },
    {
     "data": {
      "text/plain": [
       "True"
      ]
     },
     "execution_count": 225,
     "metadata": {},
     "output_type": "execute_result"
    }
   ],
   "source": [
    "path_pool = 'C:/ML_YGO/YGO_DB/'\n",
    "pool = os.listdir(path_pool)\n",
    "card=pool[9192]\n",
    "print(f'{path_pool}{card}')\n",
    "\n",
    "img_rgb = cv2.imread(f'{path_pool}{card}')\n",
    "img_gray = cv2.cvtColor(img_rgb, cv2.COLOR_BGR2GRAY)\n",
    "cv2.imwrite('C:/ML_YGO/Result/gray.png', img_gray)\n",
    "img_gray = cv2.imread('C:/ML_YGO/Result/gray.png')\n",
    "\n",
    "\n",
    "dd = 325\n",
    "pX = int((421-dd)*0.5)\n",
    "pY = 110\n",
    "\n",
    "top_left = (pX,pY)\n",
    "\n",
    "bottom_right = (pX + dd, pY+ dd)\n",
    "\n",
    "cv2.rectangle(img_gray, top_left, bottom_right, (0,0,255), 1)\n",
    "cv2.imwrite('C:/ML_YGO/Result/draw.jpg', img_gray)\n",
    "\n",
    "# img_crop = img_gray[pY:pY+dd,pX:pX+dd]\n",
    "# cv2.imwrite('C:/ML_YGO/Result/crop.jpg', img_crop)"
   ]
  },
  {
   "cell_type": "code",
   "execution_count": 20,
   "metadata": {},
   "outputs": [
    {
     "data": {
      "text/plain": [
       "True"
      ]
     },
     "execution_count": 20,
     "metadata": {},
     "output_type": "execute_result"
    }
   ],
   "source": [
    "digit = '60623203'\n",
    "# '31893529'\n",
    "# '67287534'\n",
    "# '94772233'\n",
    "# '30170982'\n",
    "\n",
    "dir_card = f'C:/ML_YGO/YGO_DB/{digit}.jpg'\n",
    "\n",
    "img_rgb = cv2.imread(dir_card)\n",
    "\n",
    "dd = 323 # dimension #325\n",
    "pX = int((421-dd)*0.5)\n",
    "pY = 111 #110\n",
    "\n",
    "top_left = (pX,pY)\n",
    "\n",
    "bottom_right = (pX + dd, pY+ dd)\n",
    "\n",
    "img_crop = img_rgb[pY:pY+dd,pX:pX+dd]\n",
    "cv2.imwrite('C:/ML_YGO/Result/crop.jpg', img_crop)"
   ]
  },
  {
   "attachments": {},
   "cell_type": "markdown",
   "metadata": {},
   "source": [
    "Pendulumn (Rectangle)"
   ]
  },
  {
   "cell_type": "code",
   "execution_count": 13,
   "metadata": {},
   "outputs": [
    {
     "data": {
      "text/plain": [
       "True"
      ]
     },
     "execution_count": 13,
     "metadata": {},
     "output_type": "execute_result"
    }
   ],
   "source": [
    "digit = '76794549'\n",
    "dir_card = f'C:/ML_YGO/YGO_DB/{digit}.jpg'\n",
    "img_rgb = cv2.imread(dir_card)\n",
    "\n",
    "img_gray = cv2.cvtColor(img_rgb, cv2.COLOR_BGR2GRAY)\n",
    "cv2.imwrite('C:/ML_YGO/Result/gray.png', img_gray)\n",
    "img_gray = cv2.imread('C:/ML_YGO/Result/gray.png')\n",
    "\n",
    "\n",
    "dX = 370\n",
    "dY = 270\n",
    "pX = int((421-dX)*0.5)\n",
    "pY = 110\n",
    "\n",
    "top_left = (pX,pY)\n",
    "\n",
    "bottom_right = (pX + dX, pY+ dY)\n",
    "\n",
    "cv2.rectangle(img_gray, top_left, bottom_right, (0,0,255), 1)\n",
    "cv2.imwrite('C:/ML_YGO/Result/pen_draw.jpg', img_gray)\n",
    "\n",
    "# img_crop = img_gray[pY:pY+dd,pX:pX+dd]\n",
    "# cv2.imwrite('C:/ML_YGO/Result/crop.jpg', img_crop)"
   ]
  },
  {
   "cell_type": "code",
   "execution_count": 14,
   "metadata": {},
   "outputs": [
    {
     "data": {
      "text/plain": [
       "True"
      ]
     },
     "execution_count": 14,
     "metadata": {},
     "output_type": "execute_result"
    }
   ],
   "source": [
    "digit = '76794549'\n",
    "dir_card = f'C:/ML_YGO/YGO_DB/{digit}.jpg'\n",
    "img_rgb = cv2.imread(dir_card)\n",
    "img_gray = cv2.cvtColor(img_rgb, cv2.COLOR_BGR2GRAY)\n",
    "cv2.imwrite('C:/ML_YGO/Result/gray.png', img_gray)\n",
    "img_gray = cv2.imread('C:/ML_YGO/Result/gray.png')\n",
    "\n",
    "\n",
    "dX = 270\n",
    "dY = 270\n",
    "pX = int((421-dX)*0.5)\n",
    "pY = 110\n",
    "\n",
    "top_left = (pX,pY)\n",
    "\n",
    "bottom_right = (pX + dX, pY+ dY)\n",
    "\n",
    "cv2.rectangle(img_gray, top_left, bottom_right, (0,0,255), 1)\n",
    "cv2.imwrite('C:/ML_YGO/Result/pen_draw.jpg', img_gray)\n",
    "\n",
    "# img_crop = img_gray[pY:pY+dd,pX:pX+dd]\n",
    "# cv2.imwrite('C:/ML_YGO/Result/crop.jpg', img_crop)"
   ]
  },
  {
   "cell_type": "code",
   "execution_count": 15,
   "metadata": {},
   "outputs": [
    {
     "data": {
      "text/plain": [
       "True"
      ]
     },
     "execution_count": 15,
     "metadata": {},
     "output_type": "execute_result"
    }
   ],
   "source": [
    "digit = '76794549'\n",
    "dir_card = f'C:/ML_YGO/YGO_DB/{digit}.jpg'\n",
    "img_rgb = cv2.imread(dir_card)\n",
    "\n",
    "dX = 367\n",
    "dY = 272\n",
    "pX = int((421-dX)*0.5)\n",
    "pY = 110\n",
    "\n",
    "img_crop = img_rgb[pY:pY+dY,pX:pX+dX]\n",
    "cv2.imwrite('C:/ML_YGO/Result/pen_crop.jpg', img_crop)"
   ]
  },
  {
   "cell_type": "markdown",
   "metadata": {},
   "source": [
    "Pendulm Trim Squ"
   ]
  },
  {
   "cell_type": "code",
   "execution_count": 18,
   "metadata": {},
   "outputs": [
    {
     "data": {
      "text/plain": [
       "True"
      ]
     },
     "execution_count": 18,
     "metadata": {},
     "output_type": "execute_result"
    }
   ],
   "source": [
    "digit = '76794549'\n",
    "dir_card = f'C:/ML_YGO/YGO_DB/{digit}.jpg'\n",
    "img_rgb = cv2.imread(dir_card)\n",
    "\n",
    "dX = 272\n",
    "dY = 272\n",
    "pX = int((421-dX)*0.5)\n",
    "pY = 110\n",
    "\n",
    "img_crop = img_rgb[pY:pY+dY,pX:pX+dX]\n",
    "\n",
    "img_scale = imutils.resize(img_crop, width = 323 )\n",
    "\n",
    "cv2.imwrite('C:/ML_YGO/Result/pen_crop.jpg', img_crop)"
   ]
  },
  {
   "cell_type": "code",
   "execution_count": 147,
   "metadata": {},
   "outputs": [
    {
     "data": {
      "text/plain": [
       "329"
      ]
     },
     "execution_count": 147,
     "metadata": {},
     "output_type": "execute_result"
    }
   ],
   "source": [
    "filename = 'pendulum_db.txt'\n",
    "with open(filename) as file:\n",
    "    pen_db = [line.rstrip() for line in file]\n",
    "len(pen_db)"
   ]
  },
  {
   "cell_type": "code",
   "execution_count": 148,
   "metadata": {},
   "outputs": [
    {
     "name": "stdout",
     "output_type": "stream",
     "text": [
      "94415058\n"
     ]
    }
   ],
   "source": [
    "print(pen_db[0])"
   ]
  },
  {
   "cell_type": "code",
   "execution_count": 149,
   "metadata": {},
   "outputs": [],
   "source": [
    "path_pool = 'C:/ML_YGO/YGO_DB/'\n",
    "path_out = 'C:/ML_YGO/YGO_DB_Pen/'\n",
    "\n",
    "dX = 272\n",
    "dY = 272\n",
    "pX = int((421-dX)*0.5)\n",
    "pY = 110\n",
    "\n",
    "\n",
    "for numb in pen_db:\n",
    "    card = str(numb)+\".jpg\"\n",
    "\n",
    "    img_rgb = cv2.imread(f'{path_pool}{card}')\n",
    "\n",
    "    img_crop = img_rgb[pY:pY+dY,pX:pX+dX]\n",
    "\n",
    "    img_scale = imutils.resize(img_crop, width = 323 )\n",
    "\n",
    "    cv2.imwrite(f'{path_out}{card}', img_scale)"
   ]
  },
  {
   "cell_type": "code",
   "execution_count": 146,
   "metadata": {},
   "outputs": [
    {
     "name": "stdout",
     "output_type": "stream",
     "text": [
      "C:/ML_YGO/YGO_DB/11134.jpg\n"
     ]
    }
   ],
   "source": [
    "numb = pen_db[0]\n",
    "card = str(numb)+\".jpg\"\n",
    "print(f'{path_pool}{card}')"
   ]
  },
  {
   "cell_type": "markdown",
   "metadata": {},
   "source": [
    "Loop to Crop (Normal)"
   ]
  },
  {
   "cell_type": "code",
   "execution_count": 4,
   "metadata": {},
   "outputs": [],
   "source": [
    "path_pool = 'C:/ML_YGO/Pool/'\n",
    "path_crop = 'C:/ML_YGO/Pool_Crop/'\n",
    "pool = os.listdir(path_pool)"
   ]
  },
  {
   "cell_type": "code",
   "execution_count": 5,
   "metadata": {},
   "outputs": [
    {
     "name": "stderr",
     "output_type": "stream",
     "text": [
      "100%|██████████| 50/50 [00:00<00:00, 94.46it/s]\n"
     ]
    }
   ],
   "source": [
    "dd = 323\n",
    "pX = int((421-dd)*0.5)\n",
    "pY = 110\n",
    "\n",
    "for card in tqdm(pool):\n",
    "    img_rgb = cv2.imread(f'{path_pool}{card}')\n",
    "    # top_left = (pX,pY)\n",
    "    # bottom_right = (pX + dd, pY+ dd)\n",
    "    img_crop = img_rgb[pY:pY+dd,pX:pX+dd]\n",
    "\n",
    "    cv2.imwrite(f'{path_crop}{card}', img_crop)"
   ]
  },
  {
   "attachments": {},
   "cell_type": "markdown",
   "metadata": {},
   "source": [
    "Scale and Template Match (Draw\n",
    ")"
   ]
  },
  {
   "cell_type": "code",
   "execution_count": 28,
   "metadata": {},
   "outputs": [
    {
     "name": "stdout",
     "output_type": "stream",
     "text": [
      "Pool with 50 cards\n"
     ]
    },
    {
     "name": "stderr",
     "output_type": "stream",
     "text": [
      "100%|██████████| 50/50 [00:00<00:00, 145.22it/s]\n"
     ]
    },
    {
     "data": {
      "text/plain": [
       "True"
      ]
     },
     "execution_count": 28,
     "metadata": {},
     "output_type": "execute_result"
    }
   ],
   "source": [
    "path_pool = 'C:/ML_YGO/Pool_Crop/'\n",
    "pool = os.listdir(path_pool)\n",
    "print(f'Pool with {len(pool)} cards')\n",
    "card=pool[0]\n",
    "# print(f'{path_pool}{card}')\n",
    "\n",
    "scale = 0.1\n",
    "card_loc = []\n",
    "\n",
    "img_rgb = cv2.imread('C:/ML_YGO/Asset/deck4.jpg') #large image\n",
    "img_rgb = imutils.resize(img_rgb, width = int(img_rgb.shape[1] * scale))\n",
    "img_gray = cv2.cvtColor(img_rgb, cv2.COLOR_BGR2GRAY)\n",
    "\n",
    "for card in tqdm(pool):\n",
    "\n",
    "    template = cv2.imread(f'{path_pool}{card}', 0) #small image\n",
    "    template = imutils.resize(template, width = int(template.shape[1] * scale))\n",
    "\n",
    "    h, w = template.shape[::]\n",
    "    res = cv2.matchTemplate(img_gray, template, cv2.TM_CCOEFF_NORMED)\n",
    "\n",
    "    min_val, max_val, min_loc, max_loc = cv2.minMaxLoc(res)\n",
    "\n",
    "    threshold = 0.8\n",
    "    loc=np.where(res >= threshold)\n",
    "\n",
    "    num_loc = []\n",
    "    for pt in zip(*loc[::-1]):\n",
    "        num_loc.append(pt)\n",
    "        cv2.rectangle(img_rgb, pt, (pt[0] + w, pt[1] + h), (255, 255, 255), 1)\n",
    "\n",
    "    card_loc.append(num_loc)\n",
    "\n",
    "cv2.imwrite('C:/ML_YGO/Result/Multi_Run.png', img_rgb)"
   ]
  },
  {
   "cell_type": "code",
   "execution_count": 29,
   "metadata": {},
   "outputs": [
    {
     "name": "stdout",
     "output_type": "stream",
     "text": [
      "10045474 : 6\n",
      "102380 : 0\n",
      "12580477 : 7\n",
      "14558127 : 12\n",
      "14816857 : 6\n",
      "14878871 : 3\n",
      "15693423 : 5\n",
      "18144506 : 2\n",
      "19882096 : 0\n",
      "23002292 : 6\n",
      "23434538 : 17\n",
      "24224830 : 4\n",
      "25311006 : 4\n",
      "26847978 : 2\n",
      "27204311 : 3\n",
      "32807846 : 2\n",
      "32909498 : 1\n",
      "35269904 : 3\n",
      "40975243 : 2\n",
      "4280258 : 2\n",
      "43262273 : 2\n",
      "46877100 : 2\n",
      "47163170 : 2\n",
      "4810828 : 1\n",
      "50810455 : 7\n",
      "52331012 : 3\n",
      "53776969 : 4\n",
      "54191698 : 2\n",
      "56063182 : 4\n",
      "56099748 : 2\n",
      "56196385 : 13\n",
      "57103969 : 3\n",
      "64514892 : 1\n",
      "65711558 : 2\n",
      "69452756 : 1\n",
      "71832012 : 1\n",
      "73628505 : 13\n",
      "78534861 : 2\n",
      "79606837 : 2\n",
      "82361809 : 3\n",
      "82888408 : 1\n",
      "83488497 : 0\n",
      "83558891 : 2\n",
      "84815190 : 1\n",
      "86066372 : 2\n",
      "87209160 : 6\n",
      "8728498 : 3\n",
      "94145021 : 10\n",
      "95245571 : 4\n",
      "99726621 : 2\n"
     ]
    }
   ],
   "source": [
    "for i in range(len(pool)):\n",
    "    the_card = pool[i].split(\".\")[0]\n",
    "    the_found = len(card_loc[i])\n",
    "\n",
    "    print(f'{the_card} : {the_found}')"
   ]
  },
  {
   "cell_type": "code",
   "execution_count": 33,
   "metadata": {},
   "outputs": [
    {
     "name": "stdout",
     "output_type": "stream",
     "text": [
      "[(342, 195), (384, 195), (342, 196), (384, 196), (5, 256), (5, 257)]\n"
     ]
    }
   ],
   "source": [
    "print(card_loc[0])"
   ]
  },
  {
   "cell_type": "code",
   "execution_count": 38,
   "metadata": {},
   "outputs": [
    {
     "name": "stdout",
     "output_type": "stream",
     "text": [
      "342, 195, 10045474\n",
      "384, 195, 10045474\n",
      "342, 196, 10045474\n",
      "384, 196, 10045474\n",
      "5, 256, 10045474\n",
      "5, 257, 10045474\n",
      "216, 439, 12580477\n",
      "215, 440, 12580477\n",
      "216, 440, 12580477\n",
      "215, 441, 12580477\n",
      "216, 441, 12580477\n",
      "215, 442, 12580477\n",
      "216, 442, 12580477\n",
      "215, 133, 14558127\n",
      "216, 133, 14558127\n",
      "257, 133, 14558127\n",
      "258, 133, 14558127\n",
      "299, 133, 14558127\n",
      "300, 133, 14558127\n",
      "215, 134, 14558127\n",
      "216, 134, 14558127\n",
      "257, 134, 14558127\n",
      "258, 134, 14558127\n",
      "299, 134, 14558127\n",
      "300, 134, 14558127\n",
      "300, 72, 14816857\n",
      "342, 72, 14816857\n",
      "384, 72, 14816857\n",
      "300, 73, 14816857\n",
      "342, 73, 14816857\n",
      "384, 73, 14816857\n",
      "300, 11, 14878871\n",
      "342, 11, 14878871\n",
      "384, 11, 14878871\n",
      "342, 440, 15693423\n",
      "384, 440, 15693423\n",
      "342, 441, 15693423\n",
      "384, 441, 15693423\n",
      "5, 502, 15693423\n",
      "173, 440, 18144506\n",
      "174, 441, 18144506\n",
      "46, 501, 23002292\n",
      "47, 501, 23002292\n",
      "48, 501, 23002292\n",
      "46, 502, 23002292\n",
      "47, 502, 23002292\n",
      "48, 502, 23002292\n",
      "89, 133, 23434538\n",
      "90, 133, 23434538\n",
      "131, 133, 23434538\n",
      "132, 133, 23434538\n",
      "173, 133, 23434538\n",
      "174, 133, 23434538\n",
      "88, 134, 23434538\n",
      "89, 134, 23434538\n",
      "90, 134, 23434538\n",
      "130, 134, 23434538\n",
      "131, 134, 23434538\n",
      "132, 134, 23434538\n",
      "173, 134, 23434538\n",
      "174, 134, 23434538\n",
      "89, 135, 23434538\n",
      "131, 135, 23434538\n",
      "173, 135, 23434538\n",
      "257, 195, 24224830\n",
      "258, 195, 24224830\n",
      "299, 195, 24224830\n",
      "300, 195, 24224830\n",
      "257, 440, 25311006\n",
      "258, 440, 25311006\n",
      "257, 441, 25311006\n",
      "258, 441, 25311006\n",
      "173, 318, 26847978\n",
      "174, 318, 26847978\n",
      "5, 440, 27204311\n",
      "6, 440, 27204311\n",
      "5, 441, 27204311\n",
      "215, 195, 32807846\n",
      "216, 195, 32807846\n",
      "258, 11, 32909498\n",
      "299, 440, 35269904\n",
      "300, 440, 35269904\n",
      "300, 441, 35269904\n",
      "47, 256, 40975243\n",
      "47, 257, 40975243\n",
      "257, 318, 4280258\n",
      "258, 318, 4280258\n",
      "131, 502, 43262273\n",
      "132, 502, 43262273\n",
      "173, 11, 46877100\n",
      "174, 11, 46877100\n",
      "131, 318, 47163170\n",
      "132, 318, 47163170\n",
      "47, 134, 4810828\n",
      "215, 72, 50810455\n",
      "216, 72, 50810455\n",
      "257, 72, 50810455\n",
      "258, 72, 50810455\n",
      "215, 73, 50810455\n",
      "216, 73, 50810455\n",
      "258, 73, 50810455\n",
      "89, 317, 52331012\n",
      "89, 318, 52331012\n",
      "90, 318, 52331012\n",
      "342, 317, 53776969\n",
      "384, 317, 53776969\n",
      "342, 318, 53776969\n",
      "384, 318, 53776969\n",
      "173, 379, 54191698\n",
      "174, 379, 54191698\n",
      "89, 195, 56063182\n",
      "90, 195, 56063182\n",
      "131, 195, 56063182\n",
      "132, 195, 56063182\n",
      "131, 11, 56099748\n",
      "132, 11, 56099748\n",
      "88, 72, 56196385\n",
      "89, 72, 56196385\n",
      "90, 72, 56196385\n",
      "131, 72, 56196385\n",
      "132, 72, 56196385\n",
      "173, 72, 56196385\n",
      "174, 72, 56196385\n",
      "89, 73, 56196385\n",
      "90, 73, 56196385\n",
      "131, 73, 56196385\n",
      "132, 73, 56196385\n",
      "173, 73, 56196385\n",
      "174, 73, 56196385\n",
      "341, 134, 57103969\n",
      "342, 134, 57103969\n",
      "384, 134, 57103969\n",
      "5, 379, 64514892\n",
      "215, 318, 65711558\n",
      "216, 318, 65711558\n",
      "89, 502, 69452756\n",
      "47, 195, 71832012\n",
      "4, 194, 73628505\n",
      "5, 194, 73628505\n",
      "6, 194, 73628505\n",
      "3, 195, 73628505\n",
      "4, 195, 73628505\n",
      "5, 195, 73628505\n",
      "6, 195, 73628505\n",
      "4, 196, 73628505\n",
      "5, 196, 73628505\n",
      "6, 196, 73628505\n",
      "4, 197, 73628505\n",
      "5, 197, 73628505\n",
      "6, 197, 73628505\n",
      "215, 11, 78534861\n",
      "216, 11, 78534861\n",
      "89, 379, 79606837\n",
      "90, 379, 79606837\n",
      "5, 11, 82361809\n",
      "47, 11, 82361809\n",
      "89, 11, 82361809\n",
      "5, 134, 82888408\n",
      "173, 195, 83558891\n",
      "174, 195, 83558891\n",
      "131, 379, 84815190\n",
      "300, 317, 86066372\n",
      "300, 318, 86066372\n",
      "5, 72, 87209160\n",
      "47, 72, 87209160\n",
      "48, 72, 87209160\n",
      "5, 73, 87209160\n",
      "47, 73, 87209160\n",
      "48, 73, 87209160\n",
      "47, 379, 8728498\n",
      "48, 379, 8728498\n",
      "47, 380, 8728498\n",
      "47, 440, 94145021\n",
      "89, 440, 94145021\n",
      "90, 440, 94145021\n",
      "131, 440, 94145021\n",
      "132, 440, 94145021\n",
      "47, 441, 94145021\n",
      "89, 441, 94145021\n",
      "90, 441, 94145021\n",
      "131, 441, 94145021\n",
      "132, 441, 94145021\n",
      "173, 501, 95245571\n",
      "174, 501, 95245571\n",
      "173, 502, 95245571\n",
      "174, 502, 95245571\n",
      "5, 318, 99726621\n",
      "47, 318, 99726621\n"
     ]
    }
   ],
   "source": [
    "zip_co = []\n",
    "for i in range(len(pool)):\n",
    "    name = pool[i].split(\".\")[0]\n",
    "\n",
    "    for j in range(len(card_loc[i])):\n",
    "        coord = card_loc[i][j]\n",
    "        coX = coord[0]\n",
    "        coY = coord[1]\n",
    "        zip_co.append([coX, coY, name])\n",
    "        print(f'{coX}, {coY}, {name}')"
   ]
  },
  {
   "cell_type": "code",
   "execution_count": 40,
   "metadata": {},
   "outputs": [],
   "source": [
    "tol1 = 10"
   ]
  },
  {
   "cell_type": "code",
   "execution_count": 44,
   "metadata": {},
   "outputs": [],
   "source": [
    "for item in zip_co:\n",
    "    pX = item[0]\n",
    "    pY = item[1]\n",
    "    name = item[2]\n",
    "\n",
    "    tX = int(pX/tol1)*tol1\n",
    "    tY = int(pY/tol1)*tol1"
   ]
  },
  {
   "cell_type": "code",
   "execution_count": 45,
   "metadata": {},
   "outputs": [],
   "source": [
    "import math"
   ]
  },
  {
   "cell_type": "code",
   "execution_count": 87,
   "metadata": {},
   "outputs": [],
   "source": [
    "def dist(p1,p2):\n",
    "    p1X = p1[0]\n",
    "    p1Y = p1[1]\n",
    "    p2X = p2[0]\n",
    "    p2Y = p2[1]\n",
    "\n",
    "    dX = (p2X - p1X) **2\n",
    "    dY = (p2Y - p1Y) **2\n",
    "    \n",
    "    return math.sqrt(dX+dY)"
   ]
  },
  {
   "cell_type": "code",
   "execution_count": 88,
   "metadata": {},
   "outputs": [],
   "source": [
    "p1 = (0,0)\n",
    "p2 = (4,3)"
   ]
  },
  {
   "cell_type": "code",
   "execution_count": 89,
   "metadata": {},
   "outputs": [
    {
     "name": "stdout",
     "output_type": "stream",
     "text": [
      "5.0\n"
     ]
    }
   ],
   "source": [
    "d = dist(p1,p2)\n",
    "print(d)"
   ]
  },
  {
   "cell_type": "code",
   "execution_count": 90,
   "metadata": {},
   "outputs": [],
   "source": [
    "zip_pt = []\n",
    "for i in range(len(pool)):\n",
    "    name = pool[i].split(\".\")[0]\n",
    "\n",
    "    for j in range(len(card_loc[i])):\n",
    "        coord = card_loc[i][j]\n",
    "        coX = coord[0]\n",
    "        coY = coord[1]\n",
    "        zip_pt.append([coX, coY])\n",
    "        # print(f'{coX}, {coY}, {name}')\n",
    "\n",
    "print(len(zip_pt))"
   ]
  },
  {
   "cell_type": "code",
   "execution_count": 106,
   "metadata": {},
   "outputs": [
    {
     "name": "stdout",
     "output_type": "stream",
     "text": [
      "72\n",
      "[0, 1, 2, 3, 4, 5, 6, 7, 8, 9, 10, 11, 12, 13, 14, 15, 16, 17, 18, 19, 20, 21, 22, 23, 24, 25, 26, 27, 28, 29, 30, 31, 32, 33, 34, 35, 36, 37, 38, 39, 40, 41, 42, 43, 44, 45, 46, 47, 48, 49, 50, 51, 52, 53, 54, 55, 56, 57, 58, 59, 60, 61, 62, 63, 64, 65, 66, 67, 68, 69, 70, 71]\n"
     ]
    }
   ],
   "source": [
    "dup_pt = zip_pt\n",
    "\n",
    "ind_pt = []\n",
    "for i in range(len(zip_pt)):\n",
    "    ind_pt.append(i)\n",
    "\n",
    "i=0\n",
    "tol=10\n",
    "\n",
    "while i< len(dup_pt):\n",
    "    j = len(dup_pt) -1\n",
    "    while j > i:\n",
    "        d = dist( dup_pt[i], dup_pt[j])\n",
    "        if d < tol :\n",
    "            print(f'{i} is duplicate of {j}')\n",
    "            dup_pt.pop(j)\n",
    "            ind_pt.pop(j)\n",
    "        j = j- 1\n",
    "    i += 1\n",
    "\n",
    "print(len(zip_pt))\n",
    "print(ind_pt)"
   ]
  },
  {
   "cell_type": "code",
   "execution_count": 108,
   "metadata": {},
   "outputs": [],
   "source": [
    "rmv_pt = []\n",
    "for i in ind_pt:\n",
    "    pt = zip_pt[i]\n",
    "    rmv_pt.append(pt)"
   ]
  },
  {
   "cell_type": "code",
   "execution_count": 131,
   "metadata": {},
   "outputs": [
    {
     "name": "stdout",
     "output_type": "stream",
     "text": [
      "[[342, 195], [384, 195], [5, 256], [216, 439], [215, 133], [257, 133], [299, 133], [300, 72], [342, 72], [384, 72], [300, 11], [342, 11], [384, 11], [342, 440], [384, 440], [5, 502], [173, 440], [46, 501], [89, 133], [131, 133], [173, 133], [257, 195], [299, 195], [257, 440], [173, 318], [5, 440], [215, 195], [258, 11], [299, 440], [47, 256], [257, 318], [131, 502], [173, 11], [131, 318], [47, 134], [215, 72], [257, 72], [89, 317], [342, 317], [384, 317], [173, 379], [89, 195], [131, 195], [131, 11], [88, 72], [131, 72], [173, 72], [341, 134], [384, 134], [5, 379], [215, 318], [89, 502], [47, 195], [4, 194], [215, 11], [89, 379], [5, 11], [47, 11], [89, 11], [5, 134], [173, 195], [131, 379], [300, 317], [5, 72], [47, 72], [47, 379], [47, 440], [89, 440], [131, 440], [173, 501], [5, 318], [47, 318]]\n"
     ]
    }
   ],
   "source": [
    "print(rmv_pt)"
   ]
  },
  {
   "cell_type": "code",
   "execution_count": 128,
   "metadata": {},
   "outputs": [],
   "source": [
    "def sort_pt(pts):\n",
    "    tol = 1000\n",
    "    round = 50\n",
    "    ind_pt = []\n",
    "    new_pt = []\n",
    "\n",
    "    for i in range(len(pts)):\n",
    "        ind_pt.append(i)\n",
    "\n",
    "        nx = round * int(pts[i][0]/round)\n",
    "        ny = round * int(pts[i][1]/round)\n",
    "\n",
    "        new = nx * tol + ny\n",
    "\n",
    "        new_pt.append(new)\n",
    "\n",
    "\n",
    "    return [x for _, x in sorted(zip(new_pt, ind_pt))]"
   ]
  },
  {
   "cell_type": "code",
   "execution_count": 130,
   "metadata": {},
   "outputs": [],
   "source": [
    "sort_mask = sort_pt(rmv_pt)"
   ]
  },
  {
   "cell_type": "code",
   "execution_count": 132,
   "metadata": {},
   "outputs": [],
   "source": [
    "clean_pt = []\n",
    "for i in sort_mask:\n",
    "    pt = rmv_pt[i]\n",
    "    clean_pt.append(pt)\n"
   ]
  },
  {
   "cell_type": "code",
   "execution_count": 133,
   "metadata": {},
   "outputs": [
    {
     "name": "stdout",
     "output_type": "stream",
     "text": [
      "[[5, 11], [47, 11], [5, 72], [47, 72], [47, 134], [5, 134], [47, 195], [4, 194], [5, 256], [47, 256], [5, 318], [47, 318], [5, 379], [47, 379], [5, 440], [47, 440], [5, 502], [46, 501], [89, 11], [88, 72], [89, 133], [89, 195], [89, 317], [89, 379], [89, 440], [89, 502], [131, 11], [131, 72], [131, 133], [131, 195], [131, 318], [131, 379], [131, 440], [131, 502], [173, 11], [173, 72], [173, 133], [173, 195], [173, 318], [173, 379], [173, 440], [173, 501], [215, 11], [215, 72], [215, 133], [215, 195], [215, 318], [216, 439], [258, 11], [257, 72], [257, 133], [299, 133], [257, 195], [299, 195], [257, 318], [257, 440], [299, 440], [300, 11], [342, 11], [300, 72], [342, 72], [341, 134], [342, 195], [342, 317], [300, 317], [342, 440], [384, 11], [384, 72], [384, 134], [384, 195], [384, 317], [384, 440]]\n"
     ]
    }
   ],
   "source": [
    "print(clean_pt)"
   ]
  },
  {
   "cell_type": "code",
   "execution_count": 7,
   "metadata": {},
   "outputs": [
    {
     "name": "stdout",
     "output_type": "stream",
     "text": [
      "Pool with 50 cards\n"
     ]
    },
    {
     "name": "stderr",
     "output_type": "stream",
     "text": [
      "100%|██████████| 50/50 [00:12<00:00,  3.99it/s]\n"
     ]
    }
   ],
   "source": [
    "path_pool = 'C:/ML_YGO/Pool_Crop/'\n",
    "pool = os.listdir(path_pool)\n",
    "print(f'Pool with {len(pool)} cards')\n",
    "card=pool[0]\n",
    "# print(f'{path_pool}{card}')\n",
    "\n",
    "scale = 0.05\n",
    "card_loc = []\n",
    "\n",
    "for card in tqdm(pool):\n",
    "    img_rgb = cv2.imread('C:/ML_YGO/Asset/deck4.jpg') #large image\n",
    "    img_rgb = imutils.resize(img_rgb, width = int(img_rgb.shape[1] * scale))\n",
    "    img_gray = cv2.cvtColor(img_rgb, cv2.COLOR_BGR2GRAY)\n",
    "\n",
    "    template = cv2.imread(f'{path_pool}{card}', 0) #small image\n",
    "    template = imutils.resize(template, width = int(template.shape[1] * scale))\n",
    "\n",
    "    h, w = template.shape[::]\n",
    "    res = cv2.matchTemplate(img_gray, template, cv2.TM_CCOEFF_NORMED)\n",
    "\n",
    "    threshold = 0.85\n",
    "    loc=np.where(res >= threshold)\n",
    "\n",
    "    num_loc = []\n",
    "    for pt in zip(*loc[::-1]):\n",
    "        num_loc.append(pt)\n",
    "    card_loc.append(num_loc)"
   ]
  },
  {
   "cell_type": "code",
   "execution_count": 8,
   "metadata": {},
   "outputs": [
    {
     "name": "stdout",
     "output_type": "stream",
     "text": [
      "10045474 : 4\n",
      "102380 : 0\n",
      "12580477 : 4\n",
      "14558127 : 9\n",
      "14816857 : 6\n",
      "14878871 : 3\n",
      "15693423 : 5\n",
      "18144506 : 2\n",
      "19882096 : 0\n",
      "23002292 : 3\n",
      "23434538 : 11\n",
      "24224830 : 3\n",
      "25311006 : 2\n",
      "26847978 : 2\n",
      "27204311 : 2\n",
      "32807846 : 2\n",
      "32909498 : 1\n",
      "35269904 : 2\n",
      "40975243 : 2\n",
      "4280258 : 1\n",
      "43262273 : 1\n",
      "46877100 : 2\n",
      "47163170 : 1\n",
      "4810828 : 1\n",
      "50810455 : 5\n",
      "52331012 : 2\n",
      "53776969 : 4\n",
      "54191698 : 1\n",
      "56063182 : 4\n",
      "56099748 : 2\n",
      "56196385 : 11\n",
      "57103969 : 2\n",
      "64514892 : 1\n",
      "65711558 : 2\n",
      "69452756 : 1\n",
      "71832012 : 1\n",
      "73628505 : 8\n",
      "78534861 : 1\n",
      "79606837 : 2\n",
      "82361809 : 3\n",
      "82888408 : 1\n",
      "83488497 : 0\n",
      "83558891 : 2\n",
      "84815190 : 1\n",
      "86066372 : 1\n",
      "87209160 : 4\n",
      "8728498 : 1\n",
      "94145021 : 7\n",
      "95245571 : 2\n",
      "99726621 : 2\n"
     ]
    }
   ],
   "source": [
    "for i in range(len(pool)):\n",
    "    the_card = pool[i].split(\".\")[0]\n",
    "    the_found = len(card_loc[i])\n",
    "\n",
    "    print(f'{the_card} : {the_found}')"
   ]
  },
  {
   "cell_type": "code",
   "execution_count": 90,
   "metadata": {},
   "outputs": [],
   "source": [
    "img_rgb = cv2.imread('C:/ML_YGO/Asset/deck4.jpg') #large image\n",
    "img_gray = cv2.cvtColor(img_rgb, cv2.COLOR_BGR2GRAY)"
   ]
  },
  {
   "cell_type": "code",
   "execution_count": 92,
   "metadata": {},
   "outputs": [
    {
     "name": "stdout",
     "output_type": "stream",
     "text": [
      "C:/ML_YGO/Pool/12580477.jpg\n"
     ]
    }
   ],
   "source": [
    "i=1\n",
    "card=pool[2]\n",
    "print (f'{path_pool}{card}')\n"
   ]
  },
  {
   "cell_type": "code",
   "execution_count": 95,
   "metadata": {},
   "outputs": [
    {
     "name": "stdout",
     "output_type": "stream",
     "text": [
      "(2105, 4298)\n",
      "(2105, 4299)\n"
     ]
    },
    {
     "data": {
      "text/plain": [
       "True"
      ]
     },
     "execution_count": 95,
     "metadata": {},
     "output_type": "execute_result"
    }
   ],
   "source": [
    "template = cv2.imread(f'{path_pool}{card}', 0) #small image\n",
    "h, w = template.shape[::]\n",
    "res = cv2.matchTemplate(img_gray, template, cv2.TM_CCOEFF_NORMED)\n",
    "\n",
    "threshold = 0.98\n",
    "loc=np.where(res >= threshold)\n",
    "\n",
    "min_val, max_val, min_loc, max_loc = cv2.minMaxLoc(res)\n",
    "\n",
    "top_left = min_loc\n",
    "bottom_right = (top_left[0] + w, top_left[1] + h)\n",
    "\n",
    "num_loc = []\n",
    "\n",
    "for pt in zip(*loc[::-1]):   #-1 to swap the values as we assign x and y coordinate to draw the rectangle. \n",
    "    #Draw rectangle around each object. We know the top left (pt), draw rectangle to match the size of the template image.\n",
    "    cv2.rectangle(img_rgb, pt, (pt[0] + w, pt[1] + h), (0, 0, 255), 10)  #Red rectangles with thickness 2. \n",
    "    print(pt)\n",
    "\n",
    "cv2.imwrite('C:/ML_YGO/Result/false_positive.png', img_rgb)"
   ]
  },
  {
   "cell_type": "code",
   "execution_count": 129,
   "metadata": {},
   "outputs": [],
   "source": [
    "ddimport imutils\n",
    "# resized_template = imutils.resize(template, width = int(template.shape[1] * scale))"
   ]
  },
  {
   "cell_type": "code",
   "execution_count": 139,
   "metadata": {},
   "outputs": [
    {
     "name": "stdout",
     "output_type": "stream",
     "text": [
      "9.45\n",
      "(316, 644)\n",
      "(316, 645)\n"
     ]
    },
    {
     "data": {
      "text/plain": [
       "True"
      ]
     },
     "execution_count": 139,
     "metadata": {},
     "output_type": "execute_result"
    }
   ],
   "source": [
    "scale = 0.15\n",
    "\n",
    "img_rgb = cv2.imread('C:/ML_YGO/Asset/deck4.jpg') #large image\n",
    "img_rgb = imutils.resize(img_rgb, width = int(img_rgb.shape[1] * scale))\n",
    "img_gray = cv2.cvtColor(img_rgb, cv2.COLOR_BGR2GRAY)\n",
    "\n",
    "template = cv2.imread(f'{path_pool}{card}', 0) #small image\n",
    "template = imutils.resize(template, width = int(template.shape[1] * scale))\n",
    "\n",
    "cv2.imwrite('C:/ML_YGO/Result/card.png', template)\n",
    "\n",
    "print(template.shape[1] * scale)\n",
    "\n",
    "h, w = template.shape[::]\n",
    "res = cv2.matchTemplate(img_gray, template, cv2.TM_CCOEFF_NORMED)\n",
    "\n",
    "threshold = 0.95\n",
    "loc=np.where(res >= threshold)\n",
    "\n",
    "min_val, max_val, min_loc, max_loc = cv2.minMaxLoc(res)\n",
    "\n",
    "top_left = min_loc\n",
    "bottom_right = (top_left[0] + w, top_left[1] + h)\n",
    "\n",
    "num_loc = []\n",
    "\n",
    "for pt in zip(*loc[::-1]):   #-1 to swap the values as we assign x and y coordinate to draw the rectangle. \n",
    "    #Draw rectangle around each object. We know the top left (pt), draw rectangle to match the size of the template image.\n",
    "    cv2.rectangle(img_rgb, pt, (pt[0] + w, pt[1] + h), (0, 0, 255), 2)  #Red rectangles with thickness 2. \n",
    "    print(pt)\n",
    "\n",
    "cv2.imwrite('C:/ML_YGO/Result/rescale.png', img_rgb)"
   ]
  },
  {
   "cell_type": "markdown",
   "metadata": {},
   "source": [
    "Running to auto scale"
   ]
  },
  {
   "cell_type": "code",
   "execution_count": 96,
   "metadata": {},
   "outputs": [
    {
     "ename": "IndentationError",
     "evalue": "expected an indented block (2707845681.py, line 2)",
     "output_type": "error",
     "traceback": [
      "\u001b[1;36m  File \u001b[1;32m\"C:\\Users\\Ghost\\AppData\\Local\\Temp\\ipykernel_16760\\2707845681.py\"\u001b[1;36m, line \u001b[1;32m2\u001b[0m\n\u001b[1;33m    # print(scale * 421)\u001b[0m\n\u001b[1;37m                        ^\u001b[0m\n\u001b[1;31mIndentationError\u001b[0m\u001b[1;31m:\u001b[0m expected an indented block\n"
     ]
    }
   ],
   "source": [
    "for scale in np.linspace(0.5, 0.1, 200):  #Pick scale based on your estimate of template to object in the image ratio\n",
    "    # print(scale * 421)"
   ]
  },
  {
   "cell_type": "markdown",
   "metadata": {},
   "source": [
    "V4 Optimize Match"
   ]
  },
  {
   "cell_type": "code",
   "execution_count": 24,
   "metadata": {},
   "outputs": [
    {
     "name": "stdout",
     "output_type": "stream",
     "text": [
      "Ideal template image size is :  73 x 107\n"
     ]
    },
    {
     "data": {
      "text/plain": [
       "True"
      ]
     },
     "execution_count": 24,
     "metadata": {},
     "output_type": "execute_result"
    }
   ],
   "source": [
    "\n",
    "img_rgb = cv2.imread('C:/ML_YGO/Asset/deck3.jpg')  #Large image\n",
    "img_gray = cv2.cvtColor(img_rgb, cv2.COLOR_BGR2GRAY)\n",
    "template = cv2.imread('C:/ML_YGO/Asset/14558127.jpg', 0)  #Small image (template)\n",
    "\n",
    "# Clculate the metric for varying image sizes\n",
    "#pick the one that gives the best metric (e.g. Minimum Sq Diff.)\n",
    "\n",
    "best_match = None\n",
    "for scale in np.linspace(0.5, 0.1, 200):  #Pick scale based on your estimate of template to object in the image ratio\n",
    "    # print(scale)\n",
    "    # print(scale * template.shape[1])\n",
    "\n",
    "    \n",
    "#Resize the input template image\n",
    "    resized_template = imutils.resize(template, width = int(template.shape[1] * scale))\n",
    "    \n",
    "    res = cv2.matchTemplate(img_gray, resized_template, cv2.TM_SQDIFF)\n",
    "    min_val, _, min_loc, _ = cv2.minMaxLoc(res)  #Only care about minimum value and location as we are using TM_SQDIFF\n",
    "    \n",
    "    #Check if the min_val is the minimum compared to the value from other scales templates\n",
    "    #If it is minimum then we got a better match compared to other scales\n",
    "    #So save the value and location. \n",
    "    if best_match is None or min_val <= best_match[0]:\n",
    "        ideal_scale=scale  #Save the ideal scale for printout. \n",
    "        h, w = resized_template.shape[::] #Get the size of the scaled template to draw the rectangle. \n",
    "        best_match = [min_val, min_loc, ideal_scale]\n",
    "        \n",
    "        \n",
    "print(\"Ideal template image size is : \", int(template.shape[1]*ideal_scale), \"x\", int(template.shape[0]*ideal_scale))\n",
    "\n",
    "#Save the image with a red box around the detected object in the large image. \n",
    "top_left = best_match[1]  #Change to max_loc for all except for TM_SQDIFF\n",
    "bottom_right = (top_left[0] + w, top_left[1] + h)\n",
    "cv2.rectangle(img_rgb, top_left, bottom_right, (0, 0,255), 2)  #Red rectangle with thickness 2. \n",
    "cv2.imwrite('C:/ML_YGO/Asset/matched_resized.jpg', img_rgb)\n"
   ]
  },
  {
   "attachments": {},
   "cell_type": "markdown",
   "metadata": {},
   "source": [
    "MTM Package"
   ]
  },
  {
   "cell_type": "code",
   "execution_count": 12,
   "metadata": {},
   "outputs": [
    {
     "ename": "SyntaxError",
     "evalue": "invalid syntax (1128029360.py, line 3)",
     "output_type": "error",
     "traceback": [
      "\u001b[1;36m  File \u001b[1;32m\"C:\\Users\\Ghost\\AppData\\Local\\Temp\\ipykernel_13092\\1128029360.py\"\u001b[1;36m, line \u001b[1;32m3\u001b[0m\n\u001b[1;33m    pip install Multi-Template-Matching\u001b[0m\n\u001b[1;37m        ^\u001b[0m\n\u001b[1;31mSyntaxError\u001b[0m\u001b[1;31m:\u001b[0m invalid syntax\n"
     ]
    }
   ],
   "source": [
    "#https://medium.com/quantrium-tech/object-detection-multi-template-matching-2c9c9fc1a867\n"
   ]
  }
 ],
 "metadata": {
  "kernelspec": {
   "display_name": "base",
   "language": "python",
   "name": "python3"
  },
  "language_info": {
   "codemirror_mode": {
    "name": "ipython",
    "version": 3
   },
   "file_extension": ".py",
   "mimetype": "text/x-python",
   "name": "python",
   "nbconvert_exporter": "python",
   "pygments_lexer": "ipython3",
   "version": "3.9.13"
  },
  "orig_nbformat": 4,
  "vscode": {
   "interpreter": {
    "hash": "1c50a568c9bb54733425ee4b50464281b54488c5e15ff27e4e32e073d46803f6"
   }
  }
 },
 "nbformat": 4,
 "nbformat_minor": 2
}
