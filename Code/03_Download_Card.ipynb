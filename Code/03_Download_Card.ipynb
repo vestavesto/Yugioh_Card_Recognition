{
 "cells": [
  {
   "cell_type": "code",
   "execution_count": 2,
   "metadata": {},
   "outputs": [],
   "source": [
    "import os\n",
    "from os import listdir\n",
    "from os.path import isfile, join\n",
    "import glob\n",
    "from pathlib import Path\n",
    "import shutil"
   ]
  },
  {
   "cell_type": "code",
   "execution_count": 3,
   "metadata": {},
   "outputs": [],
   "source": [
    "dir_path = \"C://ML_YGO/YGO_DB/\"\n",
    "dir_new = \"C://ML_YGO/YGO_DB_n/\""
   ]
  },
  {
   "cell_type": "code",
   "execution_count": 91,
   "metadata": {},
   "outputs": [
    {
     "data": {
      "text/plain": [
       "10855"
      ]
     },
     "execution_count": 91,
     "metadata": {},
     "output_type": "execute_result"
    }
   ],
   "source": [
    "f_list = os.listdir(dir_path)\n",
    "len(f_list)"
   ]
  },
  {
   "cell_type": "code",
   "execution_count": 92,
   "metadata": {},
   "outputs": [],
   "source": [
    "# os.rename(\"path/to/current/file.foo\", \"path/to/new/destination/for/file.foo\")\n",
    "# os.replace(\"path/to/current/file.foo\", \"path/to/new/destination/for/file.foo\")\n",
    "# shutil.move(\"path/to/current/file.foo\", \"path/to/new/destination/for/file.foo\")"
   ]
  },
  {
   "cell_type": "code",
   "execution_count": 93,
   "metadata": {},
   "outputs": [
    {
     "name": "stdout",
     "output_type": "stream",
     "text": [
      "10000.jpg\n",
      "C://ML_YGO/YGO_DB/10000.jpg\n",
      "C://ML_YGO/YGO_DB_n/10000.jpg\n"
     ]
    }
   ],
   "source": [
    "i = 0\n",
    "\n",
    "item = f_list[i]\n",
    "print(item)\n",
    "\n",
    "old_dir = f'{dir_path}{item}'\n",
    "print(old_dir)\n",
    "\n",
    "\n",
    "new_dir = f'{dir_new}{item}'\n",
    "print(new_dir)"
   ]
  },
  {
   "cell_type": "code",
   "execution_count": 76,
   "metadata": {},
   "outputs": [],
   "source": [
    "source = old_dir\n",
    "destination = new_dir\n",
    "shutil.move(source, destination)"
   ]
  },
  {
   "cell_type": "code",
   "execution_count": 78,
   "metadata": {},
   "outputs": [],
   "source": [
    "for i in range(len(f_list)):\n",
    "    item = f_list[i]\n",
    "    # print(item)\n",
    "\n",
    "    old_dir = f'{dir_path}{item}'\n",
    "    # print(old_dir)\n",
    "\n",
    "    # item_n = item.replace(\"0.jpg\",\".jpg\")\n",
    "\n",
    "    new_dir = f'{dir_new}{item_n}'\n",
    "    # print(new_dir)\n",
    "\n",
    "    shutil.move(old_dir, new_dir)"
   ]
  },
  {
   "attachments": {},
   "cell_type": "markdown",
   "metadata": {},
   "source": [
    "Checking Odds   "
   ]
  },
  {
   "cell_type": "code",
   "execution_count": 2,
   "metadata": {},
   "outputs": [
    {
     "name": "stdout",
     "output_type": "stream",
     "text": [
      "12241\n"
     ]
    }
   ],
   "source": [
    "### Checking Local\n",
    "db_dir = 'C:\\ML_YGO\\YGO_DB'\n",
    "local_db = os.listdir(db_dir)\n",
    "\n",
    "db_local = []\n",
    "for item in local_db:\n",
    "    item_rep = item.replace(\".jpg\",\"\")\n",
    "    db_local.append(item_rep)\n",
    "print(len(db_local))"
   ]
  },
  {
   "cell_type": "code",
   "execution_count": 3,
   "metadata": {},
   "outputs": [
    {
     "name": "stdout",
     "output_type": "stream",
     "text": [
      "1152\n"
     ]
    }
   ],
   "source": [
    "## Checking DB\n",
    "filename = 'used_db.txt'\n",
    "with open(filename) as file:\n",
    "    lines = [line.rstrip() for line in file]\n",
    "len(lines)\n",
    "db_all = lines\n",
    "print(len(db_all))"
   ]
  },
  {
   "cell_type": "code",
   "execution_count": 4,
   "metadata": {},
   "outputs": [
    {
     "name": "stdout",
     "output_type": "stream",
     "text": [
      "-11089\n"
     ]
    }
   ],
   "source": [
    "print( len(db_all) - len(db_local) )"
   ]
  },
  {
   "cell_type": "code",
   "execution_count": 5,
   "metadata": {},
   "outputs": [],
   "source": [
    "x = set(db_local)\n",
    "y = set(db_all)"
   ]
  },
  {
   "cell_type": "code",
   "execution_count": 6,
   "metadata": {},
   "outputs": [
    {
     "name": "stdout",
     "output_type": "stream",
     "text": [
      "11093\n"
     ]
    }
   ],
   "source": [
    "x_y = list(x.difference(y))\n",
    "print(len(x_y))\n"
   ]
  },
  {
   "cell_type": "code",
   "execution_count": 10,
   "metadata": {},
   "outputs": [
    {
     "name": "stdout",
     "output_type": "stream",
     "text": [
      "4\n"
     ]
    }
   ],
   "source": [
    "y_x = list(y.difference(x))\n",
    "print(len(y_x))"
   ]
  },
  {
   "cell_type": "code",
   "execution_count": 8,
   "metadata": {},
   "outputs": [
    {
     "data": {
      "text/plain": [
       "False"
      ]
     },
     "execution_count": 8,
     "metadata": {},
     "output_type": "execute_result"
    }
   ],
   "source": [
    "# check kshatrira\n",
    "'33925864' in y_x"
   ]
  },
  {
   "cell_type": "code",
   "execution_count": 9,
   "metadata": {},
   "outputs": [
    {
     "ename": "ValueError",
     "evalue": "'33925864' is not in list",
     "output_type": "error",
     "traceback": [
      "\u001b[1;31m---------------------------------------------------------------------------\u001b[0m",
      "\u001b[1;31mValueError\u001b[0m                                Traceback (most recent call last)",
      "\u001b[1;32m~\\AppData\\Local\\Temp\\ipykernel_6700\\4209362697.py\u001b[0m in \u001b[0;36m<module>\u001b[1;34m\u001b[0m\n\u001b[1;32m----> 1\u001b[1;33m \u001b[0my_x\u001b[0m\u001b[1;33m.\u001b[0m\u001b[0mindex\u001b[0m\u001b[1;33m(\u001b[0m\u001b[1;34m'33925864'\u001b[0m\u001b[1;33m)\u001b[0m\u001b[1;33m\u001b[0m\u001b[1;33m\u001b[0m\u001b[0m\n\u001b[0m",
      "\u001b[1;31mValueError\u001b[0m: '33925864' is not in list"
     ]
    }
   ],
   "source": [
    "y_x.index('33925864')"
   ]
  },
  {
   "cell_type": "code",
   "execution_count": 97,
   "metadata": {},
   "outputs": [],
   "source": [
    "m = []\n",
    "for item in x_y:\n",
    "    \n",
    "    n = f'{item}.jpg'\n",
    "    m.append(n)"
   ]
  },
  {
   "cell_type": "code",
   "execution_count": 98,
   "metadata": {},
   "outputs": [],
   "source": [
    "for i in range(len(m)):\n",
    "    item = m[i]\n",
    "\n",
    "    old_dir = f'{dir_path}{item}'\n",
    "\n",
    "    new_dir = f'{dir_new}{item}'\n",
    "\n",
    "    shutil.move(old_dir, new_dir)"
   ]
  },
  {
   "cell_type": "code",
   "execution_count": 11,
   "metadata": {},
   "outputs": [],
   "source": [
    "import requests"
   ]
  },
  {
   "cell_type": "code",
   "execution_count": 4,
   "metadata": {},
   "outputs": [],
   "source": [
    "import urllib.request\n"
   ]
  },
  {
   "cell_type": "code",
   "execution_count": 12,
   "metadata": {},
   "outputs": [
    {
     "data": {
      "text/plain": [
       "'16195943'"
      ]
     },
     "execution_count": 12,
     "metadata": {},
     "output_type": "execute_result"
    }
   ],
   "source": [
    "y_x[0]"
   ]
  },
  {
   "cell_type": "code",
   "execution_count": 9,
   "metadata": {},
   "outputs": [],
   "source": [
    "import time"
   ]
  },
  {
   "cell_type": "code",
   "execution_count": 10,
   "metadata": {},
   "outputs": [],
   "source": [
    "y_x = [45231178,70781053,70781054,70781055,6368039,91152257,91152258,49791928,41462084,31122091,32012842,97590748,23995347,69140099,42035045,38033122,38033123,38033124,38033125,38033126,38033127,56043448,36354008,98502114,98502115,21844577,58932616,84327330,20721929,6150045,93927068,61845881,97240499,24634594,60623203,96127902\n",
    "]\n"
   ]
  },
  {
   "cell_type": "code",
   "execution_count": 11,
   "metadata": {},
   "outputs": [],
   "source": [
    "i=0\n",
    "card = y_x[i]\n",
    "card_url = f'https://images.ygoprodeck.com/images/cards/{card}.jpg'\n",
    "card_file = f'{card}.jpg'"
   ]
  },
  {
   "cell_type": "code",
   "execution_count": 12,
   "metadata": {},
   "outputs": [
    {
     "data": {
      "text/plain": [
       "('45231178.jpg', <http.client.HTTPMessage at 0x1b4b72a1310>)"
      ]
     },
     "execution_count": 12,
     "metadata": {},
     "output_type": "execute_result"
    }
   ],
   "source": [
    "urllib.request.urlretrieve(card_url, card_file)"
   ]
  },
  {
   "cell_type": "code",
   "execution_count": 13,
   "metadata": {},
   "outputs": [],
   "source": [
    "for card in y_x:\n",
    "    card_url = f'https://images.ygoprodeck.com/images/cards/{card}.jpg'\n",
    "    card_file = f'{card}.jpg'\n",
    "\n",
    "    try:\n",
    "        urllib.request.urlretrieve(card_url, card_file)\n",
    "    except:\n",
    "        pass\n",
    "    time.sleep(0.5)"
   ]
  },
  {
   "cell_type": "code",
   "execution_count": null,
   "metadata": {},
   "outputs": [],
   "source": []
  }
 ],
 "metadata": {
  "kernelspec": {
   "display_name": "base",
   "language": "python",
   "name": "python3"
  },
  "language_info": {
   "codemirror_mode": {
    "name": "ipython",
    "version": 3
   },
   "file_extension": ".py",
   "mimetype": "text/x-python",
   "name": "python",
   "nbconvert_exporter": "python",
   "pygments_lexer": "ipython3",
   "version": "3.9.13"
  },
  "orig_nbformat": 4,
  "vscode": {
   "interpreter": {
    "hash": "1c50a568c9bb54733425ee4b50464281b54488c5e15ff27e4e32e073d46803f6"
   }
  }
 },
 "nbformat": 4,
 "nbformat_minor": 2
}
