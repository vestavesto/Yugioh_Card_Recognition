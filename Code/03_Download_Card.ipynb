{
 "cells": [
  {
   "cell_type": "code",
   "execution_count": 1,
   "metadata": {},
   "outputs": [],
   "source": [
    "import numpy as np\n",
    "import pandas as pd\n",
    "\n",
    "# For path\n",
    "import os\n",
    "from pathlib import Path\n",
    "\n",
    "import requests\n",
    "import urllib.request\n",
    "import time"
   ]
  },
  {
   "cell_type": "code",
   "execution_count": 2,
   "metadata": {},
   "outputs": [],
   "source": [
    "from util_db import load_db\n",
    "df = load_db(False)"
   ]
  },
  {
   "cell_type": "code",
   "execution_count": 3,
   "metadata": {},
   "outputs": [],
   "source": [
    "cwd = Path.cwd()\n",
    "dir_main = Path.cwd().parent"
   ]
  },
  {
   "attachments": {},
   "cell_type": "markdown",
   "metadata": {},
   "source": [
    "## 01 Importing DB"
   ]
  },
  {
   "cell_type": "code",
   "execution_count": 9,
   "metadata": {},
   "outputs": [
    {
     "name": "stdout",
     "output_type": "stream",
     "text": [
      "12313\n"
     ]
    }
   ],
   "source": [
    "### Checking Local\n",
    "dir_card_img = f\"{dir_main}/YGO_DB/\"\n",
    "local_digit = os.listdir(dir_card_img)\n",
    "\n",
    "db_local = []\n",
    "for digit in local_digit:\n",
    "    digit = int(   os.path.splitext(os.path.basename(digit))[0] )\n",
    "    db_local.append(digit)\n",
    "print(len(db_local))"
   ]
  },
  {
   "cell_type": "code",
   "execution_count": 5,
   "metadata": {},
   "outputs": [
    {
     "data": {
      "text/html": [
       "<div>\n",
       "<style scoped>\n",
       "    .dataframe tbody tr th:only-of-type {\n",
       "        vertical-align: middle;\n",
       "    }\n",
       "\n",
       "    .dataframe tbody tr th {\n",
       "        vertical-align: top;\n",
       "    }\n",
       "\n",
       "    .dataframe thead th {\n",
       "        text-align: right;\n",
       "    }\n",
       "</style>\n",
       "<table border=\"1\" class=\"dataframe\">\n",
       "  <thead>\n",
       "    <tr style=\"text-align: right;\">\n",
       "      <th></th>\n",
       "      <th>Code</th>\n",
       "      <th>Digit</th>\n",
       "      <th>Name_EN</th>\n",
       "      <th>Name_KO</th>\n",
       "      <th>Name_JA</th>\n",
       "      <th>Name_JA_Ruby</th>\n",
       "      <th>Extra</th>\n",
       "      <th>Type</th>\n",
       "      <th>Pendulum</th>\n",
       "      <th>Staple</th>\n",
       "      <th>Arch</th>\n",
       "      <th>Usage</th>\n",
       "      <th>U_Main</th>\n",
       "      <th>U_Extra</th>\n",
       "      <th>U_Side</th>\n",
       "      <th>Possible</th>\n",
       "      <th>Frame</th>\n",
       "    </tr>\n",
       "  </thead>\n",
       "  <tbody>\n",
       "    <tr>\n",
       "      <th>0</th>\n",
       "      <td>4007</td>\n",
       "      <td>89631139</td>\n",
       "      <td>Blue-Eyes White Dragon</td>\n",
       "      <td>푸른 눈의 백룡</td>\n",
       "      <td>青眼の白龍</td>\n",
       "      <td>ブルーアイズ・ホワイト・ドラゴン</td>\n",
       "      <td>메인</td>\n",
       "      <td>일반</td>\n",
       "      <td>False</td>\n",
       "      <td>전용</td>\n",
       "      <td>Blue-Eyes</td>\n",
       "      <td>10</td>\n",
       "      <td>10</td>\n",
       "      <td>0</td>\n",
       "      <td>0</td>\n",
       "      <td>True</td>\n",
       "      <td>일반 몬스터</td>\n",
       "    </tr>\n",
       "    <tr>\n",
       "      <th>1</th>\n",
       "      <td>4007</td>\n",
       "      <td>89631140</td>\n",
       "      <td>Blue-Eyes White Dragon</td>\n",
       "      <td>푸른 눈의 백룡</td>\n",
       "      <td>青眼の白龍</td>\n",
       "      <td>ブルーアイズ・ホワイト・ドラゴン</td>\n",
       "      <td>메인</td>\n",
       "      <td>일반</td>\n",
       "      <td>False</td>\n",
       "      <td>전용</td>\n",
       "      <td>Blue-Eyes</td>\n",
       "      <td>10</td>\n",
       "      <td>10</td>\n",
       "      <td>0</td>\n",
       "      <td>0</td>\n",
       "      <td>True</td>\n",
       "      <td>일반 몬스터</td>\n",
       "    </tr>\n",
       "    <tr>\n",
       "      <th>2</th>\n",
       "      <td>4007</td>\n",
       "      <td>89631141</td>\n",
       "      <td>Blue-Eyes White Dragon</td>\n",
       "      <td>푸른 눈의 백룡</td>\n",
       "      <td>青眼の白龍</td>\n",
       "      <td>ブルーアイズ・ホワイト・ドラゴン</td>\n",
       "      <td>메인</td>\n",
       "      <td>일반</td>\n",
       "      <td>False</td>\n",
       "      <td>전용</td>\n",
       "      <td>Blue-Eyes</td>\n",
       "      <td>10</td>\n",
       "      <td>10</td>\n",
       "      <td>0</td>\n",
       "      <td>0</td>\n",
       "      <td>True</td>\n",
       "      <td>일반 몬스터</td>\n",
       "    </tr>\n",
       "    <tr>\n",
       "      <th>3</th>\n",
       "      <td>4007</td>\n",
       "      <td>89631142</td>\n",
       "      <td>Blue-Eyes White Dragon</td>\n",
       "      <td>푸른 눈의 백룡</td>\n",
       "      <td>青眼の白龍</td>\n",
       "      <td>ブルーアイズ・ホワイト・ドラゴン</td>\n",
       "      <td>메인</td>\n",
       "      <td>일반</td>\n",
       "      <td>False</td>\n",
       "      <td>전용</td>\n",
       "      <td>Blue-Eyes</td>\n",
       "      <td>10</td>\n",
       "      <td>10</td>\n",
       "      <td>0</td>\n",
       "      <td>0</td>\n",
       "      <td>True</td>\n",
       "      <td>일반 몬스터</td>\n",
       "    </tr>\n",
       "    <tr>\n",
       "      <th>4</th>\n",
       "      <td>4007</td>\n",
       "      <td>89631143</td>\n",
       "      <td>Blue-Eyes White Dragon</td>\n",
       "      <td>푸른 눈의 백룡</td>\n",
       "      <td>青眼の白龍</td>\n",
       "      <td>ブルーアイズ・ホワイト・ドラゴン</td>\n",
       "      <td>메인</td>\n",
       "      <td>일반</td>\n",
       "      <td>False</td>\n",
       "      <td>전용</td>\n",
       "      <td>Blue-Eyes</td>\n",
       "      <td>10</td>\n",
       "      <td>10</td>\n",
       "      <td>0</td>\n",
       "      <td>0</td>\n",
       "      <td>True</td>\n",
       "      <td>일반 몬스터</td>\n",
       "    </tr>\n",
       "    <tr>\n",
       "      <th>...</th>\n",
       "      <td>...</td>\n",
       "      <td>...</td>\n",
       "      <td>...</td>\n",
       "      <td>...</td>\n",
       "      <td>...</td>\n",
       "      <td>...</td>\n",
       "      <td>...</td>\n",
       "      <td>...</td>\n",
       "      <td>...</td>\n",
       "      <td>...</td>\n",
       "      <td>...</td>\n",
       "      <td>...</td>\n",
       "      <td>...</td>\n",
       "      <td>...</td>\n",
       "      <td>...</td>\n",
       "      <td>...</td>\n",
       "      <td>...</td>\n",
       "    </tr>\n",
       "    <tr>\n",
       "      <th>12308</th>\n",
       "      <td>18457</td>\n",
       "      <td>96305350</td>\n",
       "      <td>Gold Pride - Captain Carrie</td>\n",
       "      <td>18457</td>\n",
       "      <td>18457</td>\n",
       "      <td>18457</td>\n",
       "      <td>메인</td>\n",
       "      <td>효과</td>\n",
       "      <td>False</td>\n",
       "      <td>전용</td>\n",
       "      <td>Gold Pride</td>\n",
       "      <td>0</td>\n",
       "      <td>0</td>\n",
       "      <td>0</td>\n",
       "      <td>0</td>\n",
       "      <td>False</td>\n",
       "      <td>효과 몬스터</td>\n",
       "    </tr>\n",
       "    <tr>\n",
       "      <th>12309</th>\n",
       "      <td>18458</td>\n",
       "      <td>22390469</td>\n",
       "      <td>Gold Pride - Star Leon</td>\n",
       "      <td>18458</td>\n",
       "      <td>18458</td>\n",
       "      <td>18458</td>\n",
       "      <td>메인</td>\n",
       "      <td>싱크로</td>\n",
       "      <td>False</td>\n",
       "      <td>전용</td>\n",
       "      <td>Gold Pride</td>\n",
       "      <td>0</td>\n",
       "      <td>0</td>\n",
       "      <td>0</td>\n",
       "      <td>0</td>\n",
       "      <td>False</td>\n",
       "      <td>싱크로 몬스터</td>\n",
       "    </tr>\n",
       "    <tr>\n",
       "      <th>12310</th>\n",
       "      <td>18459</td>\n",
       "      <td>58884063</td>\n",
       "      <td>Gold Pride - Nytro Blaster</td>\n",
       "      <td>18459</td>\n",
       "      <td>18459</td>\n",
       "      <td>18459</td>\n",
       "      <td>메인</td>\n",
       "      <td>링크</td>\n",
       "      <td>False</td>\n",
       "      <td>전용</td>\n",
       "      <td>Gold Pride</td>\n",
       "      <td>0</td>\n",
       "      <td>0</td>\n",
       "      <td>0</td>\n",
       "      <td>0</td>\n",
       "      <td>False</td>\n",
       "      <td>링크 몬스터</td>\n",
       "    </tr>\n",
       "    <tr>\n",
       "      <th>12311</th>\n",
       "      <td>18460</td>\n",
       "      <td>95283172</td>\n",
       "      <td>Gold Pride - The Crowd Goes Wild!</td>\n",
       "      <td>18460</td>\n",
       "      <td>18460</td>\n",
       "      <td>18460</td>\n",
       "      <td>메인</td>\n",
       "      <td>마법</td>\n",
       "      <td>False</td>\n",
       "      <td>전용</td>\n",
       "      <td>Gold Pride</td>\n",
       "      <td>0</td>\n",
       "      <td>0</td>\n",
       "      <td>0</td>\n",
       "      <td>0</td>\n",
       "      <td>False</td>\n",
       "      <td>마법</td>\n",
       "    </tr>\n",
       "    <tr>\n",
       "      <th>12312</th>\n",
       "      <td>18461</td>\n",
       "      <td>21677871</td>\n",
       "      <td>Gold Pride - Start Your Engine!</td>\n",
       "      <td>18461</td>\n",
       "      <td>18461</td>\n",
       "      <td>18461</td>\n",
       "      <td>메인</td>\n",
       "      <td>함정</td>\n",
       "      <td>False</td>\n",
       "      <td>전용</td>\n",
       "      <td>Gold Pride</td>\n",
       "      <td>0</td>\n",
       "      <td>0</td>\n",
       "      <td>0</td>\n",
       "      <td>0</td>\n",
       "      <td>False</td>\n",
       "      <td>함정</td>\n",
       "    </tr>\n",
       "  </tbody>\n",
       "</table>\n",
       "<p>12313 rows × 17 columns</p>\n",
       "</div>"
      ],
      "text/plain": [
       "        Code     Digit                            Name_EN   Name_KO Name_JA  \\\n",
       "0       4007  89631139             Blue-Eyes White Dragon  푸른 눈의 백룡   青眼の白龍   \n",
       "1       4007  89631140             Blue-Eyes White Dragon  푸른 눈의 백룡   青眼の白龍   \n",
       "2       4007  89631141             Blue-Eyes White Dragon  푸른 눈의 백룡   青眼の白龍   \n",
       "3       4007  89631142             Blue-Eyes White Dragon  푸른 눈의 백룡   青眼の白龍   \n",
       "4       4007  89631143             Blue-Eyes White Dragon  푸른 눈의 백룡   青眼の白龍   \n",
       "...      ...       ...                                ...       ...     ...   \n",
       "12308  18457  96305350        Gold Pride - Captain Carrie     18457   18457   \n",
       "12309  18458  22390469             Gold Pride - Star Leon     18458   18458   \n",
       "12310  18459  58884063         Gold Pride - Nytro Blaster     18459   18459   \n",
       "12311  18460  95283172  Gold Pride - The Crowd Goes Wild!     18460   18460   \n",
       "12312  18461  21677871    Gold Pride - Start Your Engine!     18461   18461   \n",
       "\n",
       "           Name_JA_Ruby Extra Type  Pendulum Staple        Arch  Usage  \\\n",
       "0      ブルーアイズ・ホワイト・ドラゴン    메인   일반     False     전용   Blue-Eyes     10   \n",
       "1      ブルーアイズ・ホワイト・ドラゴン    메인   일반     False     전용   Blue-Eyes     10   \n",
       "2      ブルーアイズ・ホワイト・ドラゴン    메인   일반     False     전용   Blue-Eyes     10   \n",
       "3      ブルーアイズ・ホワイト・ドラゴン    메인   일반     False     전용   Blue-Eyes     10   \n",
       "4      ブルーアイズ・ホワイト・ドラゴン    메인   일반     False     전용   Blue-Eyes     10   \n",
       "...                 ...   ...  ...       ...    ...         ...    ...   \n",
       "12308             18457    메인   효과     False     전용  Gold Pride      0   \n",
       "12309             18458    메인  싱크로     False     전용  Gold Pride      0   \n",
       "12310             18459    메인   링크     False     전용  Gold Pride      0   \n",
       "12311             18460    메인   마법     False     전용  Gold Pride      0   \n",
       "12312             18461    메인   함정     False     전용  Gold Pride      0   \n",
       "\n",
       "       U_Main  U_Extra  U_Side  Possible     Frame  \n",
       "0          10        0       0      True    일반 몬스터  \n",
       "1          10        0       0      True    일반 몬스터  \n",
       "2          10        0       0      True    일반 몬스터  \n",
       "3          10        0       0      True    일반 몬스터  \n",
       "4          10        0       0      True    일반 몬스터  \n",
       "...       ...      ...     ...       ...       ...  \n",
       "12308       0        0       0     False    효과 몬스터  \n",
       "12309       0        0       0     False   싱크로 몬스터  \n",
       "12310       0        0       0     False    링크 몬스터  \n",
       "12311       0        0       0     False       마법   \n",
       "12312       0        0       0     False       함정   \n",
       "\n",
       "[12313 rows x 17 columns]"
      ]
     },
     "execution_count": 5,
     "metadata": {},
     "output_type": "execute_result"
    }
   ],
   "source": [
    "### Checking DB\n",
    "df"
   ]
  },
  {
   "cell_type": "code",
   "execution_count": 6,
   "metadata": {},
   "outputs": [],
   "source": [
    "db_digit = np.asarray(df[\"Digit\"])\n",
    "db_name_ko = np.asarray(df[\"Name_KO\"])\n",
    "db_type = np.asarray(df['Type'])\n",
    "db_code = np.asarray(df['Code'])"
   ]
  },
  {
   "cell_type": "code",
   "execution_count": 12,
   "metadata": {},
   "outputs": [],
   "source": [
    "ind_hf = df.loc[(df['Staple'] == '범용'), 'Usage'].nlargest(25).index\n",
    "db_code_freq = db_code[ind_hf]\n",
    "db_digit_freq = db_digit[ind_hf]\n",
    "db_name_freq = db_name_ko[ind_hf]"
   ]
  },
  {
   "attachments": {},
   "cell_type": "markdown",
   "metadata": {},
   "source": [
    "## 02 Checking Odds"
   ]
  },
  {
   "cell_type": "code",
   "execution_count": 13,
   "metadata": {},
   "outputs": [],
   "source": [
    "x = set(db_local)\n",
    "y = set(db_digit)"
   ]
  },
  {
   "cell_type": "code",
   "execution_count": 14,
   "metadata": {},
   "outputs": [
    {
     "name": "stdout",
     "output_type": "stream",
     "text": [
      "0\n"
     ]
    }
   ],
   "source": [
    "print( len(y) - len(x))"
   ]
  },
  {
   "cell_type": "code",
   "execution_count": 15,
   "metadata": {},
   "outputs": [
    {
     "name": "stdout",
     "output_type": "stream",
     "text": [
      "0\n"
     ]
    }
   ],
   "source": [
    "x_y = list(x.difference(y))\n",
    "print(len(x_y))"
   ]
  },
  {
   "cell_type": "code",
   "execution_count": 16,
   "metadata": {},
   "outputs": [
    {
     "name": "stdout",
     "output_type": "stream",
     "text": [
      "0\n"
     ]
    }
   ],
   "source": [
    "y_x = list(y.difference(x))\n",
    "print(len(y_x))"
   ]
  },
  {
   "cell_type": "markdown",
   "metadata": {},
   "source": [
    "# 03 Download Images"
   ]
  },
  {
   "cell_type": "code",
   "execution_count": 17,
   "metadata": {},
   "outputs": [],
   "source": [
    "dn_list = db_digit_freq"
   ]
  },
  {
   "cell_type": "code",
   "execution_count": 32,
   "metadata": {},
   "outputs": [
    {
     "name": "stdout",
     "output_type": "stream",
     "text": [
      "0023434538 | Download Success   |\n",
      "__________ | Cooling Down\n",
      "0014558127 | Download Success   |\n",
      "0024224830 | Download Success   |\n",
      "0010045474 | Download Success   |\n",
      "0084211599 | Download Success   |\n",
      "0065681983 | Download Success   |\n",
      "__________ | Cooling Down\n",
      "0097268402 | Download Success   |\n",
      "0025311006 | Download Success   |\n",
      "0024299458 | Download Success   |\n",
      "0081439173 | Download Success   |\n",
      "0073628505 | Download Success   |\n",
      "__________ | Cooling Down\n",
      "0027204311 | Download Success   |\n",
      "0090448279 | Download Success   |\n",
      "0086066372 | Download Success   |\n",
      "0004280258 | Download Success   |\n",
      "0014532163 | Download Success   |\n",
      "__________ | Cooling Down\n",
      "0015693423 | Download Success   |\n",
      "0094145021 | Download Success   |\n",
      "0018144507 | Download Success   |\n",
      "0041420027 | Download Success   |\n",
      "0043898403 | Download Success   |\n",
      "__________ | Cooling Down\n",
      "0008267140 | Download Success   |\n",
      "0034267821 | Download Success   |\n",
      "0083326048 | Download Success   |\n",
      "0023002292 | Download Success   |\n",
      "0054693926 | Download Success   |\n",
      "__________ | Cooling Down\n",
      "0062015408 | Download Success   |\n",
      "0082385847 | Download Success   |\n"
     ]
    }
   ],
   "source": [
    "for i, digit in enumerate(dn_list):\n",
    "    dir_card = f'{dir_main}/YGO_DB_Log/{digit}.jpg'\n",
    "    url = f'https://images.ygoprodeck.com/images/cards/{digit}.jpg'\n",
    "    \n",
    "    try:\n",
    "        urllib.request.urlretrieve(url, dir_card)\n",
    "        print(f'{digit:010d} | Download Success   |')\n",
    "    except:\n",
    "        print(f'{digit:010d} | Download Failed    |')\n",
    "\n",
    "    if i%5 ==0:\n",
    "        time.sleep(10)\n",
    "        print(f'__________ | Cooling Down')"
   ]
  }
 ],
 "metadata": {
  "kernelspec": {
   "display_name": "base",
   "language": "python",
   "name": "python3"
  },
  "language_info": {
   "codemirror_mode": {
    "name": "ipython",
    "version": 3
   },
   "file_extension": ".py",
   "mimetype": "text/x-python",
   "name": "python",
   "nbconvert_exporter": "python",
   "pygments_lexer": "ipython3",
   "version": "3.10.10"
  },
  "orig_nbformat": 4,
  "vscode": {
   "interpreter": {
    "hash": "1c50a568c9bb54733425ee4b50464281b54488c5e15ff27e4e32e073d46803f6"
   }
  }
 },
 "nbformat": 4,
 "nbformat_minor": 2
}
