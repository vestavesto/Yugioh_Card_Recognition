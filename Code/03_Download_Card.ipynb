{
 "cells": [
  {
   "cell_type": "code",
   "execution_count": 26,
   "metadata": {},
   "outputs": [],
   "source": [
    "import numpy as np\n",
    "import pandas as pd\n",
    "\n",
    "# For path\n",
    "import os\n",
    "from os import listdir\n",
    "from os.path import isfile, join\n",
    "from pathlib import Path\n",
    "import glob\n",
    "\n",
    "import requests\n",
    "import urllib.request\n",
    "import time"
   ]
  },
  {
   "cell_type": "code",
   "execution_count": 23,
   "metadata": {},
   "outputs": [],
   "source": [
    "from util_db import search_deck, search_card\n",
    "from match_scale import match_scale, match_scale_mp, match_scale_mp_v\n",
    "from match_card import match_card, match_card_v\n",
    "from util_trim import trans_raw, trans_dup, trans_group, trans_sort, trans_name, trans_type, trans_paste"
   ]
  },
  {
   "cell_type": "code",
   "execution_count": 4,
   "metadata": {},
   "outputs": [],
   "source": [
    "cwd = Path.cwd()\n",
    "dir_main = Path.cwd().parent"
   ]
  },
  {
   "attachments": {},
   "cell_type": "markdown",
   "metadata": {},
   "source": [
    "Checking Odds   "
   ]
  },
  {
   "cell_type": "code",
   "execution_count": 17,
   "metadata": {},
   "outputs": [],
   "source": [
    "### Checking Local\n",
    "dir_card_img = f\"{dir_main}/YGO_DB/\"\n",
    "local_digit = os.listdir(dir_card_img)\n",
    "\n",
    "db_local = []\n",
    "for digit in local_digit:\n",
    "    digit = int(   os.path.splitext(os.path.basename(digit))[0] )\n",
    "    db_local.append(digit)\n",
    "print(len(db_local))"
   ]
  },
  {
   "cell_type": "code",
   "execution_count": 10,
   "metadata": {},
   "outputs": [],
   "source": [
    "### Checking DB\n",
    "dir_full_db = f'{dir_main}/Data/YGO DB - export_full_db.csv'\n",
    "df = pd.read_csv(dir_full_db)\n",
    "def fill_na_with_code(df):\n",
    "    for col in df.columns:\n",
    "        if col != 'Code' and df[col].isnull().any():\n",
    "            df[col].fillna(df['Code'], inplace=True)\n",
    "    return df\n",
    "fill_na_with_code(df)\n",
    "\n",
    "db_digit = np.asarray(df[\"Digit\"])\n",
    "db_name_ko = np.asarray(df[\"Name_KO\"])\n",
    "db_type = np.asarray(df['Type'])"
   ]
  },
  {
   "cell_type": "code",
   "execution_count": 19,
   "metadata": {},
   "outputs": [],
   "source": [
    "x = set(db_local)\n",
    "y = set(db_digit)"
   ]
  },
  {
   "cell_type": "code",
   "execution_count": 27,
   "metadata": {},
   "outputs": [
    {
     "name": "stdout",
     "output_type": "stream",
     "text": [
      "0\n"
     ]
    }
   ],
   "source": [
    "print( len(y) - len(x))"
   ]
  },
  {
   "cell_type": "code",
   "execution_count": 20,
   "metadata": {},
   "outputs": [
    {
     "name": "stdout",
     "output_type": "stream",
     "text": [
      "0\n"
     ]
    }
   ],
   "source": [
    "x_y = list(x.difference(y))\n",
    "print(len(x_y))"
   ]
  },
  {
   "cell_type": "code",
   "execution_count": 21,
   "metadata": {},
   "outputs": [
    {
     "name": "stdout",
     "output_type": "stream",
     "text": [
      "0\n"
     ]
    }
   ],
   "source": [
    "y_x = list(y.difference(x))\n",
    "print(len(y_x))"
   ]
  },
  {
   "cell_type": "code",
   "execution_count": 30,
   "metadata": {},
   "outputs": [
    {
     "name": "stdout",
     "output_type": "stream",
     "text": [
      "28\n"
     ]
    }
   ],
   "source": [
    "# Sample to Test For\n",
    "card_list_freq = [\n",
    "    \"증식의 G\",\"하루 우라라\", \"무덤의 지명자\", \"무한포영\",\n",
    "    \"졸부와 겸허의 항아리\", \"말살의 지명자\", \"이펙트 뵐러\", \"삼전의 재\",\n",
    "    \"금지된 일적\", \"어리석은 매장\", \"테라포밍\", \"원시생명체 니비루\",\n",
    "    \"네가로기어 아제우스\", \"액세스코드 토커\", \"소명의 신궁－아폴로우사\", \"라이트닝 스톰\",\n",
    "    \"길항승부\", \"드롤 & 로크 버드\", \"해피의 깃털\", \"신의 심판\",\n",
    "    \"트윈트위스터\", \"코즈믹 싸이크론\", \"아티팩트－롱기누스\", \"차원 장벽\",\n",
    "    \"레드 리부트\", \"명왕결계파\", \"부유벚꽃\", \"다이너레슬러 판크라톱스\",]\n",
    "\n",
    "#######################################################\n",
    "\n",
    "dir_card_list_freq = []\n",
    "digit_list_freq = []\n",
    "for card in card_list_freq:\n",
    "    digit = search_card(card)\n",
    "    digit_list_freq.append(digit)\n",
    "    dir_card = f'{dir_main}/YGO_DB/{digit}.jpg'\n",
    "    dir_card_list_freq.append(dir_card)\n",
    "\n",
    "print(len(digit_list_freq))"
   ]
  },
  {
   "cell_type": "code",
   "execution_count": 32,
   "metadata": {},
   "outputs": [
    {
     "name": "stdout",
     "output_type": "stream",
     "text": [
      "0023434538 | Download Success   |\n",
      "__________ | Cooling Down\n",
      "0014558127 | Download Success   |\n",
      "0024224830 | Download Success   |\n",
      "0010045474 | Download Success   |\n",
      "0084211599 | Download Success   |\n",
      "0065681983 | Download Success   |\n",
      "__________ | Cooling Down\n",
      "0097268402 | Download Success   |\n",
      "0025311006 | Download Success   |\n",
      "0024299458 | Download Success   |\n",
      "0081439173 | Download Success   |\n",
      "0073628505 | Download Success   |\n",
      "__________ | Cooling Down\n",
      "0027204311 | Download Success   |\n",
      "0090448279 | Download Success   |\n",
      "0086066372 | Download Success   |\n",
      "0004280258 | Download Success   |\n",
      "0014532163 | Download Success   |\n",
      "__________ | Cooling Down\n",
      "0015693423 | Download Success   |\n",
      "0094145021 | Download Success   |\n",
      "0018144507 | Download Success   |\n",
      "0041420027 | Download Success   |\n",
      "0043898403 | Download Success   |\n",
      "__________ | Cooling Down\n",
      "0008267140 | Download Success   |\n",
      "0034267821 | Download Success   |\n",
      "0083326048 | Download Success   |\n",
      "0023002292 | Download Success   |\n",
      "0054693926 | Download Success   |\n",
      "__________ | Cooling Down\n",
      "0062015408 | Download Success   |\n",
      "0082385847 | Download Success   |\n"
     ]
    }
   ],
   "source": [
    "for i, digit in enumerate(digit_list_freq):\n",
    "    dir_card = f'{dir_main}/YGO_DB_Log/{digit}.jpg'\n",
    "    url = f'https://images.ygoprodeck.com/images/cards/{digit}.jpg'\n",
    "    \n",
    "    try:\n",
    "        urllib.request.urlretrieve(url, dir_card)\n",
    "        print(f'{digit:010d} | Download Success   |')\n",
    "    except:\n",
    "        print(f'{digit:010d} | Download Failed    |')\n",
    "\n",
    "    if i%5 ==0:\n",
    "        time.sleep(10)\n",
    "        print(f'__________ | Cooling Down')"
   ]
  }
 ],
 "metadata": {
  "kernelspec": {
   "display_name": "base",
   "language": "python",
   "name": "python3"
  },
  "language_info": {
   "codemirror_mode": {
    "name": "ipython",
    "version": 3
   },
   "file_extension": ".py",
   "mimetype": "text/x-python",
   "name": "python",
   "nbconvert_exporter": "python",
   "pygments_lexer": "ipython3",
   "version": "3.9.13"
  },
  "orig_nbformat": 4,
  "vscode": {
   "interpreter": {
    "hash": "1c50a568c9bb54733425ee4b50464281b54488c5e15ff27e4e32e073d46803f6"
   }
  }
 },
 "nbformat": 4,
 "nbformat_minor": 2
}
