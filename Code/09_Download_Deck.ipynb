{
 "cells": [
  {
   "cell_type": "code",
   "execution_count": 1,
   "metadata": {},
   "outputs": [],
   "source": [
    "from selenium import webdriver\n",
    "from selenium.webdriver.common.by import By\n",
    "from selenium.webdriver.chrome.service import Service\n",
    "from selenium.webdriver.chrome.options import Options\n",
    "from selenium.common.exceptions import NoSuchElementException\n",
    "\n",
    "# Images\n",
    "import urllib\n",
    "import requests\n",
    "from PIL import Image\n",
    "from io import BytesIO\n",
    "\n",
    "# Performance\n",
    "import logging\n",
    "import time\n",
    "\n",
    "# Path\n",
    "import os\n",
    "from pathlib import Path\n",
    "import re"
   ]
  },
  {
   "cell_type": "code",
   "execution_count": 34,
   "metadata": {},
   "outputs": [],
   "source": [
    "# Set general settings\n",
    "XPATH = \"xpath\"\n",
    "erwo = \"*Error*\"\n",
    "dash = '-'\n",
    "slash = '/'\n",
    "logger = logging.getLogger(__name__)\n",
    "\n",
    "url_main = \"https://decklist.tistory.com/\"\n",
    "xp_title = '//*[@id=\"container\"]/main/div/div[2]/div[1]/div/div/h2'\n",
    "xp_man = '//*[@id=\"container\"]/main/div/div[2]/div[2]/div[2]/table/tbody/tr[1]/td[2]'\n",
    "\n",
    "regex_rank = r'\\d+[위강]'\n",
    "regex_nth = r'제\\s+(\\d+)\\s+회\\s'\n",
    "regex_team = r'(\\d+)인팀전'\n",
    "\n",
    "cwd = Path.cwd()\n",
    "dir_main = Path.cwd().parent"
   ]
  },
  {
   "cell_type": "code",
   "execution_count": 30,
   "metadata": {},
   "outputs": [],
   "source": [
    "texts = '1923 CS 3인팀전'"
   ]
  },
  {
   "cell_type": "code",
   "execution_count": 35,
   "metadata": {},
   "outputs": [
    {
     "name": "stdout",
     "output_type": "stream",
     "text": [
      "None\n"
     ]
    }
   ],
   "source": [
    "team_elements = re.findall(regex_nth, texts)\n",
    "print(team_elements)"
   ]
  },
  {
   "cell_type": "code",
   "execution_count": 55,
   "metadata": {},
   "outputs": [
    {
     "name": "stdout",
     "output_type": "stream",
     "text": [
      "['3']\n",
      "['1']\n"
     ]
    }
   ],
   "source": [
    "regex_team = r'(\\d+)\\s*인\\s*팀전'\n",
    "regex_nth = r'제\\s+(\\d+)\\s+회\\s'\n",
    "texts = '제 1 회 1923 CS 3인팀전'\n",
    "\n",
    "team_elements = re.findall(regex_team, texts)\n",
    "print(team_elements)\n",
    "\n",
    "nth_elements = re.findall(regex_nth, texts)\n",
    "print(nth_elements)"
   ]
  },
  {
   "cell_type": "code",
   "execution_count": 3,
   "metadata": {},
   "outputs": [],
   "source": [
    "# Create headless ChromeOptions object\n",
    "options = Options()\n",
    "options.add_argument('--headless')\n",
    "\n",
    "# Create a new ChromeDriverService object with the path to the Chromedriver executable\n",
    "service = Service('C://chromedriver.exe')\n",
    "\n",
    "# Initialize Chrome driver with headless options\n",
    "driver = webdriver.Chrome(service=service, options=options)"
   ]
  },
  {
   "cell_type": "code",
   "execution_count": 4,
   "metadata": {},
   "outputs": [],
   "source": [
    "def xp_deck_ind(ind):\n",
    "    return f'//*[@id=\"container\"]/main/div/div[2]/div[2]/div[2]/p[{ind}]'"
   ]
  },
  {
   "cell_type": "code",
   "execution_count": 15,
   "metadata": {},
   "outputs": [],
   "source": [
    "def get_deck_info(driver, url_numb, save_img):\n",
    "    url_comb = url_main + str(url_numb)\n",
    "    driver.get(url_comb)\n",
    "    #####################################################################\n",
    "    # Get title of the Game\n",
    "    try:\n",
    "        title_element = driver.find_element(By.XPATH, xp_title).text\n",
    "        game_cs = title_element.split(\"(\")[0].strip()\n",
    "        game_date = title_element.split(\")\")[1].strip()\n",
    "    except:\n",
    "        title_element = erwo\n",
    "        game_cs = erwo\n",
    "        game_date = erwo\n",
    "        logger.error(f'{url_numb:04d} | Failed to get | Title info')\n",
    "    #####################################################################\n",
    "    # Get Number of Players\n",
    "    try:\n",
    "        man_element = driver.find_element(By.XPATH, xp_man).text\n",
    "    except:\n",
    "        man_element = erwo\n",
    "        logger.error(f'{url_numb:04d} | Failed to get | Man info')\n",
    "    #####################################################################\n",
    "    #####################################################################\n",
    "    # Get Name of the Decks\n",
    "    #####################################################################\n",
    "    #####################################################################\n",
    "    deck_element_scrap = []\n",
    "    i = 1\n",
    "    while True:\n",
    "        try:\n",
    "            element = driver.find_element(By.XPATH, xp_deck_ind(i))\n",
    "            deck_element_scrap.append(element.text)\n",
    "            i += 1\n",
    "        except NoSuchElementException:\n",
    "            break\n",
    "    #####################################################################\n",
    "    # Remove \\n\n",
    "    for i in range(len(deck_element_scrap)):\n",
    "        while '\\n' in deck_element_scrap[i]:\n",
    "            deck_element_scrap[i] = deck_element_scrap[i].replace('\\n', '')\n",
    "    #####################################################################\n",
    "    # Modify Name of the Decks\n",
    "    # deck_elements = (filter(lambda x: x != '', deck_element_scrap))\n",
    "    # deck_elements = list(filter(lambda x: x != ' ', deck_elements))\n",
    "    deck_elements = filter(lambda x: x.strip() != '', deck_element_scrap)\n",
    "    #####################################################################\n",
    "    # Remove dash\n",
    "    deck_elements_dash = []\n",
    "    for deck in deck_elements:\n",
    "        if dash in deck:\n",
    "            deck = deck.split(dash)[1]\n",
    "        deck_elements_dash.append(deck)\n",
    "    #####################################################################\n",
    "    # Remove slash\n",
    "    deck_elements_slash = []\n",
    "    for deck in deck_elements_dash:\n",
    "        if slash in deck:\n",
    "            # If the deck contains a slash, split it and append each element to the list\n",
    "            elements = deck.split(slash)\n",
    "            deck_elements_slash.extend(iter(elements))\n",
    "        else:\n",
    "            # Otherwise, append the deck to the list as is\n",
    "            deck_elements_slash.append(deck)\n",
    "    #####################################################################\n",
    "    deck_elements = [s.strip() for s in deck_elements_slash]\n",
    "    deck_elements_text = ' '.join(deck_element_scrap)\n",
    "    rank_elements = re.findall(regex_rank, deck_elements_text)\n",
    "    #####################################################################\n",
    "    #####################################################################\n",
    "    # Get the Images\n",
    "    #####################################################################\n",
    "    #####################################################################\n",
    "    img_elements = driver.find_elements(By.TAG_NAME, 'img')\n",
    "    db_comb = []\n",
    "    for i, img_element in enumerate(img_elements):\n",
    "        deck_code = f\"{url_numb:04d}-{i+1:03d}\"\n",
    "        filename = f\"{dir_main}\\Deck_Log\\{deck_code}.jpg\"\n",
    "        img_url = img_element.get_attribute('src')\n",
    "    #####################################################################\n",
    "        # Skip GIF images\n",
    "        if img_url.startswith('data:image/gif'):\n",
    "            continue\n",
    "    #####################################################################\n",
    "        # Get the size of the images\n",
    "        response = requests.get(img_url)\n",
    "        img = Image.open(BytesIO(response.content))\n",
    "        width, height = img.size\n",
    "    #####################################################################\n",
    "        # Skip small images\n",
    "        if (width == 343 and height == 353) or width < 50:\n",
    "            pass\n",
    "        elif width > 0:\n",
    "            #####################################################################\n",
    "            # Download Image\n",
    "            # urllib.request.urlretrieve(img_url, filename)\n",
    "            if save_img:\n",
    "                with open(filename, 'wb') as f:\n",
    "                    f.write(response.content)\n",
    "            #####################################################################\n",
    "            if len(deck_elements) <= i:\n",
    "                deck_element = erwo\n",
    "            else:\n",
    "                deck_element = deck_elements[i]\n",
    "\n",
    "            if len(rank_elements) <= i:\n",
    "                rank_element = erwo\n",
    "            else:\n",
    "                rank_element = rank_elements[i]\n",
    "            #####################################################################\n",
    "            db_comb.append([\n",
    "                deck_code, game_cs, game_date, man_element, rank_element, deck_element, title_element, deck_elements_text\n",
    "                ])\n",
    "                    #####################################################################\n",
    "\n",
    "    return db_comb"
   ]
  },
  {
   "cell_type": "code",
   "execution_count": 6,
   "metadata": {},
   "outputs": [
    {
     "name": "stdout",
     "output_type": "stream",
     "text": [
      "1359 | Running\n",
      "-- Waiting to cool down --\n",
      "____ | Finished\n"
     ]
    }
   ],
   "source": [
    "run_s = 1359\n",
    "run_e = 1360\n",
    "\n",
    "master_comb =[]\n",
    "for i, url_numb in enumerate(range(run_s, run_e)):\n",
    "    print(f'{url_numb:04d} | Running')\n",
    "    try: \n",
    "        db_comb = get_deck_info(driver,url_numb, True)\n",
    "    except:\n",
    "        print(f'{url_numb:04d} | Unexpected Error')\n",
    "        break\n",
    "    master_comb.append(db_comb)\n",
    "    if i% 5 == 0:\n",
    "        time.sleep(2)\n",
    "        print(\"-- Waiting to cool down --\")\n",
    "\n",
    "master_comb_clean = []\n",
    "for first in master_comb:\n",
    "    for second in first:\n",
    "        joined_str = \"\\t\".join(second)\n",
    "        master_comb_clean.append (joined_str)\n",
    "\n",
    "dir_write = f'{dir_main}\\Output\\deck_stack.txt'\n",
    "open(dir_write, 'w').close()\n",
    "with open(dir_write , 'w', encoding=\"utf-8\") as fp:\n",
    "    for item in master_comb_clean:\n",
    "        fp.write(\"%s\\n\" % item)\n",
    "os.startfile(dir_write)\n",
    "\n",
    "print('____ | Finished')"
   ]
  },
  {
   "cell_type": "code",
   "execution_count": 6,
   "metadata": {},
   "outputs": [],
   "source": [
    "import numpy as np"
   ]
  },
  {
   "cell_type": "code",
   "execution_count": 14,
   "metadata": {},
   "outputs": [],
   "source": [
    "dir_deck_db = 'C:/ML_YGO/data/update_deck.txt'\n",
    "deck_code_list = np.loadtxt(dir_deck_db, dtype='str')"
   ]
  },
  {
   "cell_type": "code",
   "execution_count": 17,
   "metadata": {},
   "outputs": [
    {
     "name": "stdout",
     "output_type": "stream",
     "text": [
      "0156 | Running\n",
      "-- Waiting to cool down --\n",
      "0158 | Running\n",
      "0193 | Running\n",
      "0195 | Running\n",
      "0218 | Running\n",
      "0220 | Running\n",
      "-- Waiting to cool down --\n",
      "0231 | Running\n",
      "0234 | Running\n",
      "0236 | Running\n",
      "0239 | Running\n",
      "0247 | Running\n",
      "-- Waiting to cool down --\n",
      "0252 | Running\n",
      "0262 | Running\n",
      "0264 | Running\n",
      "0269 | Running\n",
      "0273 | Running\n",
      "-- Waiting to cool down --\n",
      "0275 | Running\n",
      "0285 | Running\n",
      "0287 | Running\n",
      "0291 | Running\n"
     ]
    },
    {
     "name": "stderr",
     "output_type": "stream",
     "text": [
      "291 | Failed to get | Man info\n"
     ]
    },
    {
     "name": "stdout",
     "output_type": "stream",
     "text": [
      "0292 | Running\n"
     ]
    },
    {
     "name": "stderr",
     "output_type": "stream",
     "text": [
      "292 | Failed to get | Man info\n"
     ]
    },
    {
     "name": "stdout",
     "output_type": "stream",
     "text": [
      "-- Waiting to cool down --\n",
      "0294 | Running\n",
      "0298 | Running\n",
      "0305 | Running\n",
      "0307 | Running\n",
      "0308 | Running\n",
      "-- Waiting to cool down --\n",
      "0311 | Running\n",
      "0315 | Running\n"
     ]
    },
    {
     "name": "stderr",
     "output_type": "stream",
     "text": [
      "315 | Failed to get | Man info\n"
     ]
    },
    {
     "name": "stdout",
     "output_type": "stream",
     "text": [
      "0319 | Running\n",
      "0322 | Running\n",
      "0324 | Running\n",
      "-- Waiting to cool down --\n",
      "0340 | Running\n"
     ]
    },
    {
     "name": "stderr",
     "output_type": "stream",
     "text": [
      "340 | Failed to get | Man info\n"
     ]
    },
    {
     "name": "stdout",
     "output_type": "stream",
     "text": [
      "0344 | Running\n"
     ]
    },
    {
     "name": "stderr",
     "output_type": "stream",
     "text": [
      "344 | Failed to get | Man info\n"
     ]
    },
    {
     "name": "stdout",
     "output_type": "stream",
     "text": [
      "0351 | Running\n",
      "0355 | Running\n",
      "0360 | Running\n",
      "-- Waiting to cool down --\n",
      "0363 | Running\n"
     ]
    },
    {
     "name": "stderr",
     "output_type": "stream",
     "text": [
      "363 | Failed to get | Man info\n"
     ]
    },
    {
     "name": "stdout",
     "output_type": "stream",
     "text": [
      "0372 | Running\n",
      "0377 | Running\n"
     ]
    },
    {
     "name": "stderr",
     "output_type": "stream",
     "text": [
      "377 | Failed to get | Man info\n"
     ]
    },
    {
     "name": "stdout",
     "output_type": "stream",
     "text": [
      "0378 | Running\n",
      "0381 | Running\n",
      "-- Waiting to cool down --\n",
      "0382 | Running\n",
      "0385 | Running\n",
      "0392 | Running\n",
      "0397 | Running\n",
      "0400 | Running\n"
     ]
    },
    {
     "name": "stderr",
     "output_type": "stream",
     "text": [
      "400 | Failed to get | Man info\n"
     ]
    },
    {
     "name": "stdout",
     "output_type": "stream",
     "text": [
      "-- Waiting to cool down --\n",
      "0401 | Running\n"
     ]
    },
    {
     "name": "stderr",
     "output_type": "stream",
     "text": [
      "401 | Failed to get | Man info\n"
     ]
    },
    {
     "name": "stdout",
     "output_type": "stream",
     "text": [
      "0405 | Running\n",
      "0406 | Running\n",
      "0409 | Running\n",
      "0422 | Running\n",
      "-- Waiting to cool down --\n",
      "0423 | Running\n",
      "0425 | Running\n",
      "0426 | Running\n",
      "0427 | Running\n",
      "0428 | Running\n"
     ]
    },
    {
     "name": "stderr",
     "output_type": "stream",
     "text": [
      "428 | Failed to get | Man info\n"
     ]
    },
    {
     "name": "stdout",
     "output_type": "stream",
     "text": [
      "-- Waiting to cool down --\n",
      "0445 | Running\n",
      "0447 | Running\n",
      "0449 | Running\n",
      "0450 | Running\n"
     ]
    },
    {
     "name": "stderr",
     "output_type": "stream",
     "text": [
      "450 | Failed to get | Man info\n"
     ]
    },
    {
     "name": "stdout",
     "output_type": "stream",
     "text": [
      "0451 | Running\n",
      "-- Waiting to cool down --\n",
      "0452 | Running\n"
     ]
    },
    {
     "name": "stderr",
     "output_type": "stream",
     "text": [
      "452 | Failed to get | Man info\n"
     ]
    },
    {
     "name": "stdout",
     "output_type": "stream",
     "text": [
      "0463 | Running\n",
      "0467 | Running\n",
      "0469 | Running\n",
      "0476 | Running\n",
      "-- Waiting to cool down --\n",
      "0500 | Running\n",
      "0504 | Running\n",
      "0505 | Running\n",
      "0524 | Running\n",
      "0525 | Running\n",
      "-- Waiting to cool down --\n",
      "0526 | Running\n",
      "0529 | Running\n",
      "0531 | Running\n",
      "0540 | Running\n",
      "0542 | Running\n",
      "-- Waiting to cool down --\n",
      "0543 | Running\n",
      "0544 | Running\n"
     ]
    },
    {
     "name": "stderr",
     "output_type": "stream",
     "text": [
      "544 | Failed to get | Man info\n"
     ]
    },
    {
     "name": "stdout",
     "output_type": "stream",
     "text": [
      "0553 | Running\n",
      "0556 | Running\n",
      "0558 | Running\n",
      "-- Waiting to cool down --\n",
      "0559 | Running\n",
      "0560 | Running\n",
      "0561 | Running\n",
      "0564 | Running\n"
     ]
    },
    {
     "name": "stderr",
     "output_type": "stream",
     "text": [
      "564 | Failed to get | Man info\n"
     ]
    },
    {
     "name": "stdout",
     "output_type": "stream",
     "text": [
      "0572 | Running\n",
      "-- Waiting to cool down --\n",
      "0579 | Running\n",
      "0580 | Running\n",
      "0590 | Running\n",
      "0591 | Running\n",
      "0593 | Running\n",
      "-- Waiting to cool down --\n",
      "1219 | Running\n",
      "1220 | Running\n",
      "1221 | Running\n",
      "1235 | Running\n",
      "1236 | Running\n"
     ]
    },
    {
     "name": "stderr",
     "output_type": "stream",
     "text": [
      "1236 | Failed to get | Man info\n"
     ]
    },
    {
     "name": "stdout",
     "output_type": "stream",
     "text": [
      "-- Waiting to cool down --\n",
      "1238 | Running\n",
      "1239 | Running\n",
      "1243 | Running\n",
      "1247 | Running\n",
      "1249 | Running\n",
      "-- Waiting to cool down --\n",
      "1250 | Running\n"
     ]
    },
    {
     "name": "stderr",
     "output_type": "stream",
     "text": [
      "1250 | Failed to get | Man info\n"
     ]
    },
    {
     "name": "stdout",
     "output_type": "stream",
     "text": [
      "1252 | Running\n",
      "1256 | Running\n",
      "1257 | Running\n",
      "1258 | Running\n",
      "-- Waiting to cool down --\n",
      "1260 | Running\n",
      "1271 | Running\n",
      "1272 | Running\n"
     ]
    },
    {
     "name": "stderr",
     "output_type": "stream",
     "text": [
      "1272 | Failed to get | Man info\n"
     ]
    },
    {
     "name": "stdout",
     "output_type": "stream",
     "text": [
      "1275 | Running\n",
      "1279 | Running\n",
      "-- Waiting to cool down --\n",
      "1280 | Running\n"
     ]
    },
    {
     "name": "stderr",
     "output_type": "stream",
     "text": [
      "1280 | Failed to get | Man info\n"
     ]
    },
    {
     "name": "stdout",
     "output_type": "stream",
     "text": [
      "1285 | Running\n",
      "1286 | Running\n",
      "1294 | Running\n",
      "1298 | Running\n",
      "-- Waiting to cool down --\n",
      "1301 | Running\n",
      "1313 | Running\n",
      "1315 | Running\n",
      "1316 | Running\n",
      "1318 | Running\n",
      "-- Waiting to cool down --\n",
      "1319 | Running\n",
      "1320 | Running\n",
      "1322 | Running\n",
      "1323 | Running\n",
      "1328 | Running\n",
      "-- Waiting to cool down --\n",
      "1332 | Running\n",
      "____ | Finished\n"
     ]
    }
   ],
   "source": [
    "master_comb =[]\n",
    "for i, url_numb in enumerate(deck_code_list):\n",
    "    url_numb = int(url_numb)\n",
    "    print(f'{url_numb:04d} | Running')\n",
    "    try: \n",
    "        db_comb = get_deck_info(driver,url_numb, False)\n",
    "    except:\n",
    "        print(f'{url_numb:04d} | Unexpected Error')\n",
    "        break\n",
    "    master_comb.append(db_comb)\n",
    "    if i% 5 == 0:\n",
    "        time.sleep(2)\n",
    "        print(\"-- Waiting to cool down --\")\n",
    "\n",
    "master_comb_clean = []\n",
    "for first in master_comb:\n",
    "    for second in first:\n",
    "        joined_str = \"\\t\".join(second)\n",
    "        master_comb_clean.append (joined_str)\n",
    "\n",
    "dir_write = f'{dir_main}\\Output\\deck_stack.txt'\n",
    "open(dir_write, 'w').close()\n",
    "with open(dir_write , 'w', encoding=\"utf-8\") as fp:\n",
    "    for item in master_comb_clean:\n",
    "        fp.write(\"%s\\n\" % item)\n",
    "os.startfile(dir_write)\n",
    "\n",
    "print('____ | Finished')"
   ]
  }
 ],
 "metadata": {
  "kernelspec": {
   "display_name": "base",
   "language": "python",
   "name": "python3"
  },
  "language_info": {
   "codemirror_mode": {
    "name": "ipython",
    "version": 3
   },
   "file_extension": ".py",
   "mimetype": "text/x-python",
   "name": "python",
   "nbconvert_exporter": "python",
   "pygments_lexer": "ipython3",
   "version": "3.10.10"
  },
  "orig_nbformat": 4
 },
 "nbformat": 4,
 "nbformat_minor": 2
}
