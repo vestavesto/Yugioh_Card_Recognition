{
 "cells": [
  {
   "cell_type": "code",
   "execution_count": 1,
   "metadata": {},
   "outputs": [],
   "source": [
    "from selenium import webdriver\n",
    "from selenium.webdriver.common.by import By\n",
    "from selenium.webdriver.chrome.service import Service\n",
    "from selenium.webdriver.chrome.options import Options\n",
    "from selenium.common.exceptions import NoSuchElementException\n",
    "\n",
    "# Images\n",
    "import urllib\n",
    "import requests\n",
    "from PIL import Image\n",
    "from io import BytesIO\n",
    "\n",
    "# Performance\n",
    "import logging\n",
    "import time\n",
    "\n",
    "# Path\n",
    "import os\n",
    "from pathlib import Path\n",
    "import re\n",
    "\n",
    "from googletrans import Translator"
   ]
  },
  {
   "cell_type": "code",
   "execution_count": 60,
   "metadata": {},
   "outputs": [],
   "source": [
    "# Set general settings\n",
    "ID = \"id\"\n",
    "NAME = \"name\"\n",
    "XPATH = \"xpath\"\n",
    "LINK_TEXT = \"link text\"\n",
    "PARTIAL_LINK_TEXT = \"partial link text\"\n",
    "TAG_NAME = \"tag name\"\n",
    "CLASS_NAME = \"class name\"\n",
    "CSS_SELECTOR = \"css selector\"\n",
    "\n",
    "erwo = \"*Error*\"\n",
    "\n",
    "dash = '-'\n",
    "slash = '/'\n",
    "\n",
    "logger = logging.getLogger(__name__)\n",
    "\n",
    "cwd = Path.cwd()\n",
    "dir_main = Path.cwd().parent\n",
    "\n",
    "translator = Translator()\n"
   ]
  },
  {
   "cell_type": "code",
   "execution_count": 3,
   "metadata": {},
   "outputs": [],
   "source": [
    "# Create headless ChromeOptions object\n",
    "# options = Options()\n",
    "# options.add_argument('--headless')\n",
    "\n",
    "# Create a new ChromeDriverService object with the path to the Chromedriver executable\n",
    "service = Service('C://chromedriver.exe')\n",
    "\n",
    "# Initialize Chrome driver with headless options\n",
    "driver = webdriver.Chrome(service=service)"
   ]
  },
  {
   "cell_type": "code",
   "execution_count": 18,
   "metadata": {},
   "outputs": [],
   "source": [
    "deck_code = 27749\n",
    "\n",
    "url = f'https://www.izazin.com/taikai/{deck_code}/recipe?at=-Mk'"
   ]
  },
  {
   "cell_type": "code",
   "execution_count": 19,
   "metadata": {},
   "outputs": [],
   "source": [
    "driver.get(url)"
   ]
  },
  {
   "cell_type": "code",
   "execution_count": 20,
   "metadata": {},
   "outputs": [],
   "source": [
    "xp_title = '/html/body/div[2]/div[3]/div[1]/ol/li'\n",
    "xp_rank = '/html/body/div[2]/div[3]/div[1]/div[4]/div/table/tbody/tr[1]/td[2]/p'\n",
    "xp_game = '/html/body/div[2]/div[3]/div[1]/div[4]/div/table/tbody/tr[4]/td[2]/a/p'\n",
    "xp_date = '/html/body/div[2]/div[3]/div[1]/div[4]/div/table/tbody/tr[5]/td[2]/p'\n",
    "xp_player = '/html/body/div[2]/div[3]/div[1]/div[4]/div/table/tbody/tr[6]/td[2]/p'\n",
    "xp_team = '/html/body/div[2]/div[3]/div[1]/div[4]/div/table/tbody/tr[7]/td[2]/p'\n",
    "\n",
    "xp_table = '/html/body/div[2]/div[3]/div[1]/div[4]'\n",
    "\n",
    "\n",
    "xp_h1 = '/html/body/div[2]/div[3]/div[1]/div[4]/div/table/tbody/tr[1]/td[1]'\n",
    "xp_h2 = '/html/body/div[2]/div[3]/div[1]/div[4]/div/table/tbody/tr[2]/td[1]'\n",
    "xp_h3 = '/html/body/div[2]/div[3]/div[1]/div[4]/div/table/tbody/tr[3]/td[1]'\n",
    "\n",
    "xp_v1 = '/html/body/div[2]/div[3]/div[1]/div[4]/div/table/tbody/tr[1]/td[2]/p'\n",
    "xp_v2 = '/html/body/div[2]/div[3]/div[1]/div[4]/div/table/tbody/tr[2]/td[2]/p'\n",
    "xp_v3 = '/html/body/div[2]/div[3]/div[1]/div[4]/div/table/tbody/tr[3]/td[2]/p'\n",
    "\n",
    "xp_image = '/html/body/div[2]/div[3]/div[1]/div[5]/div/div/img'\n",
    "\n",
    "xp_icon1 = '/html/body/div[2]/div[3]/div[2]/div[2]/a/img'\n",
    "xp_icon2 = '/html/body/div[2]/div[3]/div[2]/div[3]/a/img'\n",
    "xp_icon3 = '/html/body/div[2]/div[3]/div[2]/div[8]/div/div/p[1]/a/img'"
   ]
  },
  {
   "cell_type": "code",
   "execution_count": 21,
   "metadata": {},
   "outputs": [
    {
     "name": "stdout",
     "output_type": "stream",
     "text": [
      "大会結果一覧 > デッキレシピ\n",
      "대회 결과 일람 > 덱 레시피\n"
     ]
    }
   ],
   "source": [
    "title_element = driver.find_element(By.XPATH, xp_title).text\n",
    "print(title_element)\n",
    "trans_title = translator.translate(title_element, dest='ko').text\n",
    "print(trans_title)"
   ]
  },
  {
   "cell_type": "code",
   "execution_count": null,
   "metadata": {},
   "outputs": [],
   "source": [
    "rank_element = driver.find_element(By.XPATH, xp_rank).text\n",
    "game_element = driver.find_element(By.XPATH, xp_game).text\n",
    "date_element = driver.find_element(By.XPATH, xp_date).text\n",
    "player_element = driver.find_element(By.XPATH, xp_player).text\n",
    "team_element = driver.find_element(By.XPATH, xp_team).text"
   ]
  },
  {
   "cell_type": "code",
   "execution_count": 53,
   "metadata": {},
   "outputs": [],
   "source": [
    "table_elements = driver.find_elements(By.CLASS_NAME, \"table\")"
   ]
  },
  {
   "cell_type": "code",
   "execution_count": null,
   "metadata": {},
   "outputs": [],
   "source": []
  },
  {
   "cell_type": "code",
   "execution_count": 54,
   "metadata": {},
   "outputs": [
    {
     "name": "stdout",
     "output_type": "stream",
     "text": [
      "[<selenium.webdriver.remote.webelement.WebElement (session=\"232604b899ba2a50bb020c1db4cc5bd0\", element=\"341244cb-2579-4992-bab5-e45ade7364f7\")>, <selenium.webdriver.remote.webelement.WebElement (session=\"232604b899ba2a50bb020c1db4cc5bd0\", element=\"0f5dbb78-80ea-4260-8e51-ddec789f73b6\")>, <selenium.webdriver.remote.webelement.WebElement (session=\"232604b899ba2a50bb020c1db4cc5bd0\", element=\"a7e209fd-6f35-4b7f-b8c5-5dd6e23edb3b\")>, <selenium.webdriver.remote.webelement.WebElement (session=\"232604b899ba2a50bb020c1db4cc5bd0\", element=\"cf93731d-f459-4db9-adcd-f6a926976df4\")>, <selenium.webdriver.remote.webelement.WebElement (session=\"232604b899ba2a50bb020c1db4cc5bd0\", element=\"6aba2778-5285-43f1-aa8e-830524784ba1\")>, <selenium.webdriver.remote.webelement.WebElement (session=\"232604b899ba2a50bb020c1db4cc5bd0\", element=\"2254d542-3101-4a7b-b2cd-65ed67bd0eca\")>, <selenium.webdriver.remote.webelement.WebElement (session=\"232604b899ba2a50bb020c1db4cc5bd0\", element=\"1b490119-4679-4965-95d7-bed1cbed0536\")>, <selenium.webdriver.remote.webelement.WebElement (session=\"232604b899ba2a50bb020c1db4cc5bd0\", element=\"7e09668d-56cc-42ff-934d-d6c4a536b1d6\")>, <selenium.webdriver.remote.webelement.WebElement (session=\"232604b899ba2a50bb020c1db4cc5bd0\", element=\"fd044ab6-f5a1-4096-910d-17550bb4638d\")>]\n"
     ]
    }
   ],
   "source": [
    "print(table_elements)"
   ]
  },
  {
   "cell_type": "code",
   "execution_count": 61,
   "metadata": {},
   "outputs": [
    {
     "name": "stdout",
     "output_type": "stream",
     "text": [
      "順位 - ポジション\n",
      "1位 - A\n",
      "チーム名\n",
      "チー牛の泉\n",
      "プレイヤー\n",
      "ギガマン(福岡県)\n",
      "デッキジャンル\n",
      "【神碑】\n",
      "大会名\n",
      "アキーシャ Cup with TOYGER Vol.7(2人チーム戦)※初心者歓迎！お一人でも参加可！（詳細はルールをご覧ください）\n",
      "開催日\n",
      "2023/02/23(木)\n",
      "参加数\n",
      "23チーム (46人)\n",
      "対戦形式\n",
      "2人チーム戦（スイスドロー4回戦＋トーナメント3回戦）\n"
     ]
    }
   ],
   "source": [
    "table_element = table_elements[0]\n",
    "print(table_element.text)"
   ]
  },
  {
   "cell_type": "code",
   "execution_count": 65,
   "metadata": {},
   "outputs": [],
   "source": [
    "# find the table element using xpath\n",
    "table = driver.find_element(By.XPATH, \"/html/body/div[2]/div[3]/div[1]/div[4]/div/table\")\n",
    "\n",
    "# find all the rows in the table\n",
    "rows = table.find_elements(By.TAG_NAME, \"tr\")"
   ]
  },
  {
   "cell_type": "code",
   "execution_count": 67,
   "metadata": {},
   "outputs": [
    {
     "name": "stdout",
     "output_type": "stream",
     "text": [
      "チーム名\n",
      "チー牛の泉\n"
     ]
    }
   ],
   "source": [
    "print(row.text)"
   ]
  },
  {
   "cell_type": "code",
   "execution_count": null,
   "metadata": {},
   "outputs": [],
   "source": [
    "table_element = driver.find_element(By.XPATH, xp_table)"
   ]
  },
  {
   "cell_type": "code",
   "execution_count": 41,
   "metadata": {},
   "outputs": [
    {
     "name": "stdout",
     "output_type": "stream",
     "text": [
      "順位 - ポジション\n",
      "1位 - A\n",
      "チーム名\n",
      "チー牛の泉\n",
      "プレイヤー\n",
      "ギガマン(福岡県)\n",
      "デッキジャンル\n",
      "【神碑】\n",
      "大会名\n",
      "アキーシャ Cup with TOYGER Vol.7(2人チーム戦)※初心者歓迎！お一人でも参加可！（詳細はルールをご覧ください）\n",
      "開催日\n",
      "2023/02/23(木)\n",
      "参加数\n",
      "23チーム (46人)\n",
      "対戦形式\n",
      "2人チーム戦（スイスドロー4回戦＋トーナメント3回戦）\n"
     ]
    }
   ],
   "source": [
    "table_element = driver.find_element(By.XPATH, xp_table).text\n",
    "print(table_element)"
   ]
  },
  {
   "cell_type": "code",
   "execution_count": null,
   "metadata": {},
   "outputs": [],
   "source": []
  },
  {
   "cell_type": "code",
   "execution_count": 35,
   "metadata": {},
   "outputs": [],
   "source": [
    "table_element = \"\".join(table_element)"
   ]
  },
  {
   "cell_type": "code",
   "execution_count": 37,
   "metadata": {},
   "outputs": [],
   "source": [
    "table_element = table_element.split(\"\\n\")\n"
   ]
  },
  {
   "cell_type": "code",
   "execution_count": 39,
   "metadata": {},
   "outputs": [],
   "source": [
    "table_element = driver.find_element(By.XPATH, xp_table).text\n",
    "print(table_element)"
   ]
  },
  {
   "cell_type": "code",
   "execution_count": null,
   "metadata": {},
   "outputs": [],
   "source": []
  },
  {
   "cell_type": "code",
   "execution_count": 17,
   "metadata": {},
   "outputs": [],
   "source": [
    "img_element = driver.find_element(By.XPATH, xp_image)\n",
    "\n",
    "\n",
    "file_name = f'{dir_main}/deck_izazin_log/{deck_code:06d}_single.jpg'\n",
    "img_url = img_element.get_attribute('src')\n",
    "if img_url.startswith('data:image/gif'):\n",
    "    pass\n",
    "\n",
    "response = requests.get(img_url)\n",
    "img = Image.open(BytesIO(response.content))\n",
    "width, height = img.size\n",
    "\n",
    "if ( width > 150 and height >150):\n",
    "    with open(file_name, 'wb') as f:\n",
    "        f.write(response.content)"
   ]
  },
  {
   "cell_type": "code",
   "execution_count": 38,
   "metadata": {},
   "outputs": [],
   "source": [
    "img_elements = driver.find_elements(By.TAG_NAME, 'img')\n",
    "\n",
    "for i, img_element in enumerate(img_elements):\n",
    "    file_name = f'{dir_main}/deck_izazin_log/{deck_code:06d}_{i:03d}.jpg'\n",
    "    img_url = img_element.get_attribute('src')\n",
    "\n",
    "    if img_url.startswith('data:image/gif'):\n",
    "        continue\n",
    "\n",
    "    response = requests.get(img_url)\n",
    "    img = Image.open(BytesIO(response.content))\n",
    "    width, height = img.size\n",
    "\n",
    "    if ( width > 150 and height >150):\n",
    "        with open(file_name, 'wb') as f:\n",
    "            f.write(response.content)"
   ]
  }
 ],
 "metadata": {
  "kernelspec": {
   "display_name": "Python 3",
   "language": "python",
   "name": "python3"
  },
  "language_info": {
   "codemirror_mode": {
    "name": "ipython",
    "version": 3
   },
   "file_extension": ".py",
   "mimetype": "text/x-python",
   "name": "python",
   "nbconvert_exporter": "python",
   "pygments_lexer": "ipython3",
   "version": "3.10.10"
  },
  "orig_nbformat": 4
 },
 "nbformat": 4,
 "nbformat_minor": 2
}
