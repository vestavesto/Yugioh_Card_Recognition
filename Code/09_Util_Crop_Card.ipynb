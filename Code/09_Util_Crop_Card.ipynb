{
 "cells": [
  {
   "cell_type": "code",
   "execution_count": 10,
   "metadata": {},
   "outputs": [],
   "source": [
    "# For image processing\n",
    "import cv2\n",
    "import imutils\n",
    "import numpy as np\n",
    "import pandas as pd\n",
    "import math\n",
    "\n",
    "# For path\n",
    "from pathlib import Path\n",
    "import glob\n",
    "\n",
    "# For displaying\n",
    "from PIL import Image\n",
    "from IPython.display import display\n",
    "\n",
    "# For performance\n",
    "import time\n",
    "from multiprocessing import Pool, cpu_count\n",
    "from tqdm import tqdm, trange\n",
    "\n",
    "cwd = Path.cwd()\n",
    "dir_main = Path.cwd().parent"
   ]
  },
  {
   "cell_type": "code",
   "execution_count": 11,
   "metadata": {},
   "outputs": [],
   "source": [
    "from util_db import load_db, search_deck, search_digit, search_name"
   ]
  },
  {
   "cell_type": "markdown",
   "metadata": {},
   "source": [
    "# 01 Crop Illustraion"
   ]
  },
  {
   "cell_type": "code",
   "execution_count": 12,
   "metadata": {},
   "outputs": [],
   "source": [
    "df = load_db(True)"
   ]
  },
  {
   "cell_type": "code",
   "execution_count": null,
   "metadata": {},
   "outputs": [],
   "source": [
    "# pd.set_option('display.max_rows', None)  # set the number of rows to display to None to show all rows\n",
    "# pd.set_option('display.max_columns', None)  # set the number of columns to display to None to show all columns"
   ]
  },
  {
   "cell_type": "code",
   "execution_count": 13,
   "metadata": {},
   "outputs": [],
   "source": [
    "db_code = np.asanyarray(df[\"Code\"])\n",
    "db_digit = np.asarray(df[\"Digit\"])\n",
    "db_name_ko = np.asarray(df[\"Name_KO\"])\n",
    "db_type = np.asarray(df['Type'])\n",
    "db_pen = np.asarray(df['Pendulum'])\n",
    "db_frame = np.asanyarray(df['Frame'])"
   ]
  },
  {
   "attachments": {},
   "cell_type": "markdown",
   "metadata": {},
   "source": [
    "## 01-1 Crop Cards (Standard)"
   ]
  },
  {
   "cell_type": "code",
   "execution_count": null,
   "metadata": {},
   "outputs": [],
   "source": [
    "name = '하루 우라라'\n",
    "ind = np.where(db_name_ko == name)[0][0]\n",
    "digit = db_digit[ind]\n",
    "dir_card = f'{dir_main}/YGO_DB/{digit}.jpg'\n",
    "print(dir_card)"
   ]
  },
  {
   "cell_type": "code",
   "execution_count": null,
   "metadata": {},
   "outputs": [],
   "source": [
    "img_rgb = cv2.imread(dir_card)\n",
    "img_gray = cv2.cvtColor(img_rgb, cv2.COLOR_BGR2GRAY)\n",
    "\n",
    "dir_write_gray = f'{dir_main}/Output/std_crop_gray.jpg'\n",
    "cv2.imwrite(dir_write_gray, img_gray)\n",
    "img_gray = cv2.imread(dir_write_gray)\n",
    "\n",
    "dXY = 323\n",
    "pX = int((421-dXY)*0.5)\n",
    "pY = 111\n",
    "top_left = (pX,pY)\n",
    "bottom_right = (pX + dXY, pY+ dXY)\n",
    "\n",
    "dir_write_rec = f'{dir_main}/Output/std_crop_rec.jpg'\n",
    "cv2.rectangle(img_gray, top_left, bottom_right, (0,0,255), 1)\n",
    "cv2.imwrite(dir_write_rec, img_gray)\n",
    "\n",
    "dir_write_crop = f'{dir_main}/Output/std_crop_crop.jpg'\n",
    "img_crop = img_rgb[pY:pY+dXY,pX:pX+dXY]\n",
    "cv2.imwrite(dir_write_crop, img_crop)"
   ]
  },
  {
   "cell_type": "code",
   "execution_count": null,
   "metadata": {},
   "outputs": [],
   "source": [
    "dir_file = dir_write_rec\n",
    "image=Image.open(dir_file)\n",
    "o_size = image.size\n",
    "f = 300\n",
    "width, height = f, int(f*o_size[1]/o_size[0])\n",
    "image = image.resize((width, height))\n",
    "display(image)"
   ]
  },
  {
   "cell_type": "code",
   "execution_count": null,
   "metadata": {},
   "outputs": [],
   "source": [
    "dir_file = dir_write_crop\n",
    "image=Image.open(dir_file)\n",
    "o_size = image.size\n",
    "f = 300\n",
    "width, height = f, int(f*o_size[1]/o_size[0])\n",
    "image = image.resize((width, height))\n",
    "display(image)"
   ]
  },
  {
   "attachments": {},
   "cell_type": "markdown",
   "metadata": {},
   "source": [
    "## 01-2 Crop Cards (Pendulum)"
   ]
  },
  {
   "cell_type": "code",
   "execution_count": null,
   "metadata": {},
   "outputs": [],
   "source": [
    "name = '아스트로그래프 매지션'\n",
    "ind = np.where(db_name_ko == name)[0][0]\n",
    "digit = db_digit[ind]\n",
    "dir_card = f'{dir_main}/YGO_DB/{digit}.jpg'\n",
    "print(dir_card)"
   ]
  },
  {
   "cell_type": "code",
   "execution_count": null,
   "metadata": {},
   "outputs": [],
   "source": [
    "img_rgb = cv2.imread(dir_card)\n",
    "img_gray = cv2.cvtColor(img_rgb, cv2.COLOR_BGR2GRAY)\n",
    "\n",
    "dir_write_gray = f'{dir_main}/Output/pen_crop_gray.jpg'\n",
    "cv2.imwrite(dir_write_gray, img_gray)\n",
    "img_gray = cv2.imread(dir_write_gray)\n",
    "\n",
    "dX = 367\n",
    "dY = 270\n",
    "pX = int((421-dX)*0.5)\n",
    "pY = 110\n",
    "\n",
    "top_left = (pX,pY)\n",
    "bottom_right = (pX + dX, pY+ dY)\n",
    "\n",
    "dir_write_rec = f'{dir_main}/Output/pen_crop_rec.jpg'\n",
    "cv2.rectangle(img_gray, top_left, bottom_right, (0,0,255), 1)\n",
    "cv2.imwrite(dir_write_rec, img_gray)\n",
    "\n",
    "dir_write_crop = f'{dir_main}/Output/pen_crop_crop.jpg'\n",
    "img_crop = img_rgb[pY:pY+dY,pX:pX+dX]\n",
    "cv2.imwrite(dir_write_crop, img_crop)\n",
    "\n",
    "\n",
    "print(dX, dY, pX, pY)"
   ]
  },
  {
   "cell_type": "code",
   "execution_count": null,
   "metadata": {},
   "outputs": [],
   "source": [
    "dir_file = dir_write_rec\n",
    "image=Image.open(dir_file)\n",
    "o_size = image.size\n",
    "f = 300\n",
    "width, height = f, int(f*o_size[1]/o_size[0])\n",
    "image = image.resize((width, height))\n",
    "display(image)"
   ]
  },
  {
   "cell_type": "code",
   "execution_count": null,
   "metadata": {},
   "outputs": [],
   "source": [
    "dir_file = dir_write_crop\n",
    "image=Image.open(dir_file)\n",
    "o_size = image.size\n",
    "f = 300\n",
    "width, height = f, int(f*o_size[1]/o_size[0])\n",
    "image = image.resize((width, height))\n",
    "display(image)"
   ]
  },
  {
   "attachments": {},
   "cell_type": "markdown",
   "metadata": {},
   "source": [
    "## 01-3 Crop Card (Pendulum - Square)"
   ]
  },
  {
   "cell_type": "code",
   "execution_count": null,
   "metadata": {},
   "outputs": [],
   "source": [
    "name = '크로노그래프 매지션'\n",
    "ind = np.where(db_name_ko == name)[0][0]\n",
    "digit = db_digit[ind]\n",
    "dir_card = f'{dir_main}/YGO_DB/{digit}.jpg'\n",
    "print(dir_card)"
   ]
  },
  {
   "cell_type": "code",
   "execution_count": null,
   "metadata": {},
   "outputs": [],
   "source": [
    "img_rgb = cv2.imread(dir_card)\n",
    "img_gray = cv2.cvtColor(img_rgb, cv2.COLOR_BGR2GRAY)\n",
    "\n",
    "dir_write_gray = f'{dir_main}/Output/pen_crop_gray.jpg'\n",
    "cv2.imwrite(dir_write_gray, img_gray)\n",
    "img_gray = cv2.imread(dir_write_gray)\n",
    "\n",
    "dXY = 271\n",
    "pX = int((421-dXY)*0.5)\n",
    "pY = 111\n",
    "top_left = (pX,pY)\n",
    "bottom_right = (pX + dXY, pY+ dXY)\n",
    "\n",
    "dir_write_rec = f'{dir_main}/Output/pen_crop_rec.jpg'\n",
    "cv2.rectangle(img_gray, top_left, bottom_right, (0,0,255), 1)\n",
    "cv2.imwrite(dir_write_rec, img_gray)\n",
    "\n",
    "dir_write_crop = f'{dir_main}/Output/pen_crop_crop.jpg'\n",
    "img_crop = img_rgb[pY:pY+dXY,pX:pX+dXY]\n",
    "cv2.imwrite(dir_write_crop, img_crop)"
   ]
  },
  {
   "cell_type": "code",
   "execution_count": null,
   "metadata": {},
   "outputs": [],
   "source": [
    "dir_file = dir_write_rec\n",
    "image=Image.open(dir_file)\n",
    "o_size = image.size\n",
    "f = 300\n",
    "width, height = f, int(f*o_size[1]/o_size[0])\n",
    "image = image.resize((width, height))\n",
    "display(image)"
   ]
  },
  {
   "cell_type": "code",
   "execution_count": null,
   "metadata": {},
   "outputs": [],
   "source": [
    "dir_file = dir_write_crop\n",
    "image=Image.open(dir_file)\n",
    "o_size = image.size\n",
    "f = 300\n",
    "width, height = f, int(f*o_size[1]/o_size[0])\n",
    "image = image.resize((width, height))\n",
    "display(image)"
   ]
  },
  {
   "attachments": {},
   "cell_type": "markdown",
   "metadata": {},
   "source": [
    "## 01-4 Run"
   ]
  },
  {
   "cell_type": "code",
   "execution_count": null,
   "metadata": {},
   "outputs": [],
   "source": [
    "d1 = 367\n",
    "d2 = 217"
   ]
  },
  {
   "cell_type": "code",
   "execution_count": null,
   "metadata": {},
   "outputs": [],
   "source": [
    "for i in range(40,2000):\n",
    "    mlt = i/367\n",
    "    if abs(int(d2*mlt)-d2*mlt) <0.0000001:\n",
    "        print(i)"
   ]
  },
  {
   "cell_type": "code",
   "execution_count": 14,
   "metadata": {},
   "outputs": [],
   "source": [
    "def round_near(x):\n",
    "    x_f = math.floor(x)\n",
    "    x_c = math.ceil(x)\n",
    "    d_f = (x - x_f)\n",
    "    d_c = (x_c - x)\n",
    "    x = x_f if d_f < d_c else x_c\n",
    "    return x"
   ]
  },
  {
   "cell_type": "code",
   "execution_count": 18,
   "metadata": {},
   "outputs": [],
   "source": [
    "resize = 320\n",
    "\n",
    "for i, digit in enumerate(db_digit):\n",
    "    dir_card = f'{dir_main}/YGO_DB/{digit}.jpg'\n",
    "    dir_write_crop = f'{dir_main}/YGO_DB_resize/{digit}.jpg'\n",
    "    pen = db_pen[i]\n",
    "    img_rgb = cv2.imread(dir_card)\n",
    "    if pen:\n",
    "        dXY = 271\n",
    "    else:\n",
    "        dXY = 323\n",
    "    pX = int((421-dXY)*0.5)\n",
    "    pY = 111\n",
    "    # top_left = (pX,pY)\n",
    "    # bottom_right = (pX + dXY, pY+ dXY)\n",
    "    img_crop = img_rgb[pY:pY+dXY,pX:pX+dXY]\n",
    "\n",
    "    cv2.imwrite(dir_write_crop, img_crop)"
   ]
  },
  {
   "cell_type": "markdown",
   "metadata": {},
   "source": [
    "# Labeling "
   ]
  },
  {
   "cell_type": "code",
   "execution_count": null,
   "metadata": {},
   "outputs": [],
   "source": [
    "df = load_db(True)\n",
    "# df = load_db(True)\n",
    "df = df[df['Usage'] > 0]\n",
    "# df = df[df['Percent'] > 0.8]\n",
    "# df = df[df['Usage'] > 2000 ]\n",
    "\n",
    "db_code = np.asanyarray(df[\"Code\"])\n",
    "db_digit = np.asarray(df[\"Digit\"])\n",
    "db_name_ko = np.asarray(df[\"Name_KO\"])\n",
    "db_type = np.asarray(df['Type'])\n",
    "db_pen = np.asarray(df['Pendulum'])\n",
    "db_frame = np.asanyarray(df['Frame'])\n",
    "\n",
    "unique_code = np.unique(db_code)\n",
    "unique_digit = np.unique(db_digit)\n",
    "unique_frame = np.unique(db_frame)"
   ]
  },
  {
   "cell_type": "code",
   "execution_count": null,
   "metadata": {},
   "outputs": [],
   "source": [
    "# path = '../data'\n",
    "train = 'C:/Yolo_YGO/data_/train/images'\n",
    "val = 'C:/Yolo_YGO/data_/test/images'\n",
    "\n",
    "nc = len(unique_digit)\n",
    "names = [str(name) for name in  unique_digit.tolist()]\n",
    "\n",
    "names_str = [f\"'{name}'\" for name in names]\n",
    "names_str = \", \".join(names_str)\n",
    "names_str = \"[\" + names_str + \"]\"\n",
    "names_string = json.dumps(names)\n",
    "\n",
    "yml_form = f'''train : {train}\n",
    "val : {val}\n",
    "nc : {nc}\n",
    "names = {names_str}'''\n",
    "print(yml_form)"
   ]
  },
  {
   "cell_type": "code",
   "execution_count": null,
   "metadata": {},
   "outputs": [],
   "source": [
    "data = {'train': train, 'val': val, 'nc': nc, 'names': names_str}\n",
    "dir_yml = f'{dir_main}/dataset.yml'\n",
    "\n",
    "with open(dir_yml, 'w') as f:\n",
    "    yaml.dump(data, f, Dumper=yaml.Dumper, sort_keys=False)"
   ]
  },
  {
   "cell_type": "code",
   "execution_count": null,
   "metadata": {},
   "outputs": [],
   "source": [
    "dir_train = '/data_/train/'\n",
    "dir_test = '/data_/test/'"
   ]
  },
  {
   "cell_type": "code",
   "execution_count": null,
   "metadata": {},
   "outputs": [],
   "source": [
    "dir_train_img =  f'{dir_main}{dir_train}images'\n",
    "dir_train_label =  f'{dir_main}{dir_train}labels'\n",
    "dir_test_img =  f'{dir_main}{dir_test}images'\n",
    "dir_test_label =  f'{dir_main}{dir_test}labels'"
   ]
  },
  {
   "cell_type": "code",
   "execution_count": null,
   "metadata": {},
   "outputs": [],
   "source": [
    "os.mkdir(dir_train_img)\n",
    "os.mkdir(dir_train_label)\n",
    "os.mkdir(dir_test_img)\n",
    "os.mkdir(dir_test_label)"
   ]
  },
  {
   "cell_type": "code",
   "execution_count": null,
   "metadata": {},
   "outputs": [],
   "source": [
    "card_width = 421\n",
    "card_height = 614\n",
    "resize = 320\n",
    "\n",
    "for i, digit in enumerate(db_digit):\n",
    "    code = db_code[i]\n",
    "    pen = db_pen[i]\n",
    "    frame = db_frame[i]\n",
    "\n",
    "    digit_unique = np.where(unique_digit == digit)[0][0]\n",
    "\n",
    "    dir_card = f'{dir_main}/YGO_DB/{digit}.jpg'\n",
    "    img_rgb = cv2.imread(dir_card)\n",
    "    \n",
    "    if pen:\n",
    "        dX = 271\n",
    "        dY = dX\n",
    "        pX = int((card_width-dX)*0.5)\n",
    "        pY = 111\n",
    "    else:\n",
    "        dX = 323\n",
    "        dY = dX\n",
    "        pX = int((card_width-dX)*0.5)\n",
    "        pY = 111\n",
    "    top_left = (pX,pY)\n",
    "    bottom_right = (pX + dX, pY+ dY)\n",
    "\n",
    "#####################################################################\n",
    "    # 1st exp : card frame\n",
    "    size_full_exp = cv2.resize(img_rgb, (resize, resize), interpolation=cv2.INTER_LINEAR)\n",
    "    dir_write_image = f'{dir_main}{dir_test}images/{digit}_frame.jpg'\n",
    "    cv2.imwrite(dir_write_image, size_full_exp)\n",
    "\n",
    "    Cx = pX + 0.5*dX\n",
    "    Cy = pY + 0.5*dY\n",
    "\n",
    "    paramWidth = resize / card_width\n",
    "    paramHeight = resize / card_height\n",
    "\n",
    "    reCx = Cx * paramWidth\n",
    "    reCy = Cy * paramHeight\n",
    "    reDx = dX * paramWidth\n",
    "    reDy = dY * paramHeight\n",
    "\n",
    "    normCx = reCx / resize\n",
    "    normCy = reCy / resize\n",
    "    normDx = reDx / resize\n",
    "    normDy = reDy / resize\n",
    "\n",
    "    # normCx = Cx / card_width\n",
    "    # normCy = Cy / card_height\n",
    "    # normDx = dX / card_width\n",
    "    # normDy = dY / card_height\n",
    "\n",
    "    label = [digit_unique, normCx, normCy, normDx, normDy]\n",
    "    label = '\\t'.join([str(item) for item in label])\n",
    "\n",
    "    dir_write_label = f'{dir_main}{dir_test}labels/{digit}_frame.txt'\n",
    "    open(dir_write_label, 'w').close()\n",
    "    with open(dir_write_label , 'w', encoding=\"utf-8\") as fp:\n",
    "        fp.write(label)\n",
    "\n",
    "# #####################################################################\n",
    "    # 2nd exp : croped in square\n",
    "    img_crop = img_rgb[pY:pY+dY,pX:pX+dX]\n",
    "    size_crop_exp = cv2.resize(img_crop, (resize, resize), interpolation=cv2.INTER_LINEAR)\n",
    "    dir_write_image = f'{dir_main}{dir_train}images/{digit}_crop.jpg'\n",
    "    cv2.imwrite(dir_write_image, size_crop_exp)\n",
    "\n",
    "    label = [digit_unique, 0.5, 0.5, 1.0, 1.0]\n",
    "    label = '\\t'.join([str(item) for item in label])\n",
    "\n",
    "    dir_write_label = f'{dir_main}{dir_train}labels/{digit}_crop.txt'\n",
    "    open(dir_write_label, 'w').close()\n",
    "    with open(dir_write_label , 'w', encoding=\"utf-8\") as fp:\n",
    "        fp.write(label)\n",
    "\n",
    "#####################################################################\n",
    "    # # 3rd exp : croped in pendulum\n",
    "    # if pen:\n",
    "    #     dX = 367\n",
    "    #     dY = 270\n",
    "    #     pX = int((card_width-dX)*0.5)\n",
    "    #     pY = 110\n",
    "    #     # 3rd exp\n",
    "    #     img_crop = img_rgb[pY:pY+dY,pX:pX+dX]\n",
    "    #     size_crop_exp = cv2.resize(img_crop, (640, 640), interpolation=cv2.INTER_LINEAR)\n",
    "\n",
    "    #     dir_write_image = f'{dir_main}{dir_train}images/{digit}_pen.jpg'\n",
    "    #     cv2.imwrite(dir_write_image, size_crop_exp)\n",
    "\n",
    "    #     label = [digit_unique, 0.5, 0.5, 1.0, 1.0]\n",
    "    #     label = '\\t'.join([str(item) for item in label])\n",
    "\n",
    "    #     dir_write_label = f'{dir_main}{dir_train}labels/{digit}_pen.txt'\n",
    "    #     open(dir_write_label, 'w').close()\n",
    "    #     with open(dir_write_label , 'w', encoding=\"utf-8\") as fp:\n",
    "    #         fp.write(label)"
   ]
  }
 ],
 "metadata": {
  "kernelspec": {
   "display_name": "base",
   "language": "python",
   "name": "python3"
  },
  "language_info": {
   "codemirror_mode": {
    "name": "ipython",
    "version": 3
   },
   "file_extension": ".py",
   "mimetype": "text/x-python",
   "name": "python",
   "nbconvert_exporter": "python",
   "pygments_lexer": "ipython3",
   "version": "3.10.10"
  },
  "orig_nbformat": 4,
  "vscode": {
   "interpreter": {
    "hash": "1c50a568c9bb54733425ee4b50464281b54488c5e15ff27e4e32e073d46803f6"
   }
  }
 },
 "nbformat": 4,
 "nbformat_minor": 2
}
